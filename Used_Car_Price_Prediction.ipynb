{
 "cells": [
  {
   "cell_type": "markdown",
   "metadata": {},
   "source": [
    "# 중고차 가격 예측하기"
   ]
  },
  {
   "cell_type": "markdown",
   "metadata": {},
   "source": [
    "<span style=\"color:blue\"> 환경 준비 </span>"
   ]
  },
  {
   "cell_type": "code",
   "execution_count": 101,
   "metadata": {},
   "outputs": [],
   "source": [
    "# 라이브러리 불러오기\n",
    "import numpy as np\n",
    "import pandas as pd\n",
    "import matplotlib.pyplot as plt\n",
    "import seaborn as sns\n",
    "\n",
    "%config InlineBackend.figure_format = 'retina'\n"
   ]
  },
  {
   "cell_type": "code",
   "execution_count": 102,
   "metadata": {},
   "outputs": [],
   "source": [
    "# 데이터 읽어오기\n",
    "path = 'D:\\PRACTICE\\\\used_cars.csv'\n",
    "data = pd.read_csv(path)"
   ]
  },
  {
   "cell_type": "markdown",
   "metadata": {},
   "source": [
    "<br/>\n",
    "<span style=\"color:blue\"> 데이터 이해 </span>"
   ]
  },
  {
   "cell_type": "code",
   "execution_count": 103,
   "metadata": {
    "scrolled": true
   },
   "outputs": [
    {
     "data": {
      "text/html": [
       "<div>\n",
       "<style scoped>\n",
       "    .dataframe tbody tr th:only-of-type {\n",
       "        vertical-align: middle;\n",
       "    }\n",
       "\n",
       "    .dataframe tbody tr th {\n",
       "        vertical-align: top;\n",
       "    }\n",
       "\n",
       "    .dataframe thead th {\n",
       "        text-align: right;\n",
       "    }\n",
       "</style>\n",
       "<table border=\"1\" class=\"dataframe\">\n",
       "  <thead>\n",
       "    <tr style=\"text-align: right;\">\n",
       "      <th></th>\n",
       "      <th>brand</th>\n",
       "      <th>model</th>\n",
       "      <th>model_year</th>\n",
       "      <th>milage</th>\n",
       "      <th>fuel_type</th>\n",
       "      <th>engine</th>\n",
       "      <th>transmission</th>\n",
       "      <th>ext_col</th>\n",
       "      <th>int_col</th>\n",
       "      <th>accident</th>\n",
       "      <th>clean_title</th>\n",
       "      <th>price</th>\n",
       "    </tr>\n",
       "  </thead>\n",
       "  <tbody>\n",
       "    <tr>\n",
       "      <th>0</th>\n",
       "      <td>Ford</td>\n",
       "      <td>Utility Police Interceptor Base</td>\n",
       "      <td>2013</td>\n",
       "      <td>51,000 mi.</td>\n",
       "      <td>E85 Flex Fuel</td>\n",
       "      <td>300.0HP 3.7L V6 Cylinder Engine Flex Fuel Capa...</td>\n",
       "      <td>6-Speed A/T</td>\n",
       "      <td>Black</td>\n",
       "      <td>Black</td>\n",
       "      <td>At least 1 accident or damage reported</td>\n",
       "      <td>Yes</td>\n",
       "      <td>$10,300</td>\n",
       "    </tr>\n",
       "    <tr>\n",
       "      <th>1</th>\n",
       "      <td>Hyundai</td>\n",
       "      <td>Palisade SEL</td>\n",
       "      <td>2021</td>\n",
       "      <td>34,742 mi.</td>\n",
       "      <td>Gasoline</td>\n",
       "      <td>3.8L V6 24V GDI DOHC</td>\n",
       "      <td>8-Speed Automatic</td>\n",
       "      <td>Moonlight Cloud</td>\n",
       "      <td>Gray</td>\n",
       "      <td>At least 1 accident or damage reported</td>\n",
       "      <td>Yes</td>\n",
       "      <td>$38,005</td>\n",
       "    </tr>\n",
       "    <tr>\n",
       "      <th>2</th>\n",
       "      <td>Lexus</td>\n",
       "      <td>RX 350 RX 350</td>\n",
       "      <td>2022</td>\n",
       "      <td>22,372 mi.</td>\n",
       "      <td>Gasoline</td>\n",
       "      <td>3.5 Liter DOHC</td>\n",
       "      <td>Automatic</td>\n",
       "      <td>Blue</td>\n",
       "      <td>Black</td>\n",
       "      <td>None reported</td>\n",
       "      <td>NaN</td>\n",
       "      <td>$54,598</td>\n",
       "    </tr>\n",
       "    <tr>\n",
       "      <th>3</th>\n",
       "      <td>INFINITI</td>\n",
       "      <td>Q50 Hybrid Sport</td>\n",
       "      <td>2015</td>\n",
       "      <td>88,900 mi.</td>\n",
       "      <td>Hybrid</td>\n",
       "      <td>354.0HP 3.5L V6 Cylinder Engine Gas/Electric H...</td>\n",
       "      <td>7-Speed A/T</td>\n",
       "      <td>Black</td>\n",
       "      <td>Black</td>\n",
       "      <td>None reported</td>\n",
       "      <td>Yes</td>\n",
       "      <td>$15,500</td>\n",
       "    </tr>\n",
       "    <tr>\n",
       "      <th>4</th>\n",
       "      <td>Audi</td>\n",
       "      <td>Q3 45 S line Premium Plus</td>\n",
       "      <td>2021</td>\n",
       "      <td>9,835 mi.</td>\n",
       "      <td>Gasoline</td>\n",
       "      <td>2.0L I4 16V GDI DOHC Turbo</td>\n",
       "      <td>8-Speed Automatic</td>\n",
       "      <td>Glacier White Metallic</td>\n",
       "      <td>Black</td>\n",
       "      <td>None reported</td>\n",
       "      <td>NaN</td>\n",
       "      <td>$34,999</td>\n",
       "    </tr>\n",
       "  </tbody>\n",
       "</table>\n",
       "</div>"
      ],
      "text/plain": [
       "      brand                            model  model_year      milage  \\\n",
       "0      Ford  Utility Police Interceptor Base        2013  51,000 mi.   \n",
       "1   Hyundai                     Palisade SEL        2021  34,742 mi.   \n",
       "2     Lexus                    RX 350 RX 350        2022  22,372 mi.   \n",
       "3  INFINITI                 Q50 Hybrid Sport        2015  88,900 mi.   \n",
       "4      Audi        Q3 45 S line Premium Plus        2021   9,835 mi.   \n",
       "\n",
       "       fuel_type                                             engine  \\\n",
       "0  E85 Flex Fuel  300.0HP 3.7L V6 Cylinder Engine Flex Fuel Capa...   \n",
       "1       Gasoline                               3.8L V6 24V GDI DOHC   \n",
       "2       Gasoline                                     3.5 Liter DOHC   \n",
       "3         Hybrid  354.0HP 3.5L V6 Cylinder Engine Gas/Electric H...   \n",
       "4       Gasoline                         2.0L I4 16V GDI DOHC Turbo   \n",
       "\n",
       "        transmission                 ext_col int_col  \\\n",
       "0        6-Speed A/T                   Black   Black   \n",
       "1  8-Speed Automatic         Moonlight Cloud    Gray   \n",
       "2          Automatic                    Blue   Black   \n",
       "3        7-Speed A/T                   Black   Black   \n",
       "4  8-Speed Automatic  Glacier White Metallic   Black   \n",
       "\n",
       "                                 accident clean_title    price  \n",
       "0  At least 1 accident or damage reported         Yes  $10,300  \n",
       "1  At least 1 accident or damage reported         Yes  $38,005  \n",
       "2                           None reported         NaN  $54,598  \n",
       "3                           None reported         Yes  $15,500  \n",
       "4                           None reported         NaN  $34,999  "
      ]
     },
     "execution_count": 103,
     "metadata": {},
     "output_type": "execute_result"
    }
   ],
   "source": [
    "# 상위 몇 개 행 확인\n",
    "data.head()"
   ]
  },
  {
   "cell_type": "code",
   "execution_count": 104,
   "metadata": {},
   "outputs": [
    {
     "data": {
      "text/html": [
       "<div>\n",
       "<style scoped>\n",
       "    .dataframe tbody tr th:only-of-type {\n",
       "        vertical-align: middle;\n",
       "    }\n",
       "\n",
       "    .dataframe tbody tr th {\n",
       "        vertical-align: top;\n",
       "    }\n",
       "\n",
       "    .dataframe thead th {\n",
       "        text-align: right;\n",
       "    }\n",
       "</style>\n",
       "<table border=\"1\" class=\"dataframe\">\n",
       "  <thead>\n",
       "    <tr style=\"text-align: right;\">\n",
       "      <th></th>\n",
       "      <th>brand</th>\n",
       "      <th>model</th>\n",
       "      <th>model_year</th>\n",
       "      <th>milage</th>\n",
       "      <th>fuel_type</th>\n",
       "      <th>engine</th>\n",
       "      <th>transmission</th>\n",
       "      <th>ext_col</th>\n",
       "      <th>int_col</th>\n",
       "      <th>accident</th>\n",
       "      <th>clean_title</th>\n",
       "      <th>price</th>\n",
       "    </tr>\n",
       "  </thead>\n",
       "  <tbody>\n",
       "    <tr>\n",
       "      <th>4004</th>\n",
       "      <td>Bentley</td>\n",
       "      <td>Continental GT Speed</td>\n",
       "      <td>2023</td>\n",
       "      <td>714 mi.</td>\n",
       "      <td>Gasoline</td>\n",
       "      <td>6.0L W12 48V PDI DOHC Twin Turbo</td>\n",
       "      <td>8-Speed Automatic with Auto-Shift</td>\n",
       "      <td>C / C</td>\n",
       "      <td>Hotspur</td>\n",
       "      <td>None reported</td>\n",
       "      <td>Yes</td>\n",
       "      <td>$349,950</td>\n",
       "    </tr>\n",
       "    <tr>\n",
       "      <th>4005</th>\n",
       "      <td>Audi</td>\n",
       "      <td>S4 3.0T Premium Plus</td>\n",
       "      <td>2022</td>\n",
       "      <td>10,900 mi.</td>\n",
       "      <td>Gasoline</td>\n",
       "      <td>349.0HP 3.0L V6 Cylinder Engine Gasoline Fuel</td>\n",
       "      <td>Transmission w/Dual Shift Mode</td>\n",
       "      <td>Black</td>\n",
       "      <td>Black</td>\n",
       "      <td>None reported</td>\n",
       "      <td>Yes</td>\n",
       "      <td>$53,900</td>\n",
       "    </tr>\n",
       "    <tr>\n",
       "      <th>4006</th>\n",
       "      <td>Porsche</td>\n",
       "      <td>Taycan</td>\n",
       "      <td>2022</td>\n",
       "      <td>2,116 mi.</td>\n",
       "      <td>NaN</td>\n",
       "      <td>Electric</td>\n",
       "      <td>Automatic</td>\n",
       "      <td>Black</td>\n",
       "      <td>Black</td>\n",
       "      <td>None reported</td>\n",
       "      <td>NaN</td>\n",
       "      <td>$90,998</td>\n",
       "    </tr>\n",
       "    <tr>\n",
       "      <th>4007</th>\n",
       "      <td>Ford</td>\n",
       "      <td>F-150 Raptor</td>\n",
       "      <td>2020</td>\n",
       "      <td>33,000 mi.</td>\n",
       "      <td>Gasoline</td>\n",
       "      <td>450.0HP 3.5L V6 Cylinder Engine Gasoline Fuel</td>\n",
       "      <td>A/T</td>\n",
       "      <td>Blue</td>\n",
       "      <td>Black</td>\n",
       "      <td>None reported</td>\n",
       "      <td>Yes</td>\n",
       "      <td>$62,999</td>\n",
       "    </tr>\n",
       "    <tr>\n",
       "      <th>4008</th>\n",
       "      <td>BMW</td>\n",
       "      <td>X3 xDrive30i</td>\n",
       "      <td>2020</td>\n",
       "      <td>43,000 mi.</td>\n",
       "      <td>Gasoline</td>\n",
       "      <td>248.0HP 2.0L 4 Cylinder Engine Gasoline Fuel</td>\n",
       "      <td>A/T</td>\n",
       "      <td>Gray</td>\n",
       "      <td>Brown</td>\n",
       "      <td>At least 1 accident or damage reported</td>\n",
       "      <td>Yes</td>\n",
       "      <td>$40,000</td>\n",
       "    </tr>\n",
       "  </tbody>\n",
       "</table>\n",
       "</div>"
      ],
      "text/plain": [
       "        brand                 model  model_year      milage fuel_type  \\\n",
       "4004  Bentley  Continental GT Speed        2023     714 mi.  Gasoline   \n",
       "4005     Audi  S4 3.0T Premium Plus        2022  10,900 mi.  Gasoline   \n",
       "4006  Porsche                Taycan        2022   2,116 mi.       NaN   \n",
       "4007     Ford          F-150 Raptor        2020  33,000 mi.  Gasoline   \n",
       "4008      BMW          X3 xDrive30i        2020  43,000 mi.  Gasoline   \n",
       "\n",
       "                                             engine  \\\n",
       "4004               6.0L W12 48V PDI DOHC Twin Turbo   \n",
       "4005  349.0HP 3.0L V6 Cylinder Engine Gasoline Fuel   \n",
       "4006                                       Electric   \n",
       "4007  450.0HP 3.5L V6 Cylinder Engine Gasoline Fuel   \n",
       "4008   248.0HP 2.0L 4 Cylinder Engine Gasoline Fuel   \n",
       "\n",
       "                           transmission ext_col  int_col  \\\n",
       "4004  8-Speed Automatic with Auto-Shift   C / C  Hotspur   \n",
       "4005     Transmission w/Dual Shift Mode   Black    Black   \n",
       "4006                          Automatic   Black    Black   \n",
       "4007                                A/T    Blue    Black   \n",
       "4008                                A/T    Gray    Brown   \n",
       "\n",
       "                                    accident clean_title     price  \n",
       "4004                           None reported         Yes  $349,950  \n",
       "4005                           None reported         Yes   $53,900  \n",
       "4006                           None reported         NaN   $90,998  \n",
       "4007                           None reported         Yes   $62,999  \n",
       "4008  At least 1 accident or damage reported         Yes   $40,000  "
      ]
     },
     "execution_count": 104,
     "metadata": {},
     "output_type": "execute_result"
    }
   ],
   "source": [
    "data.tail()"
   ]
  },
  {
   "cell_type": "code",
   "execution_count": 105,
   "metadata": {},
   "outputs": [
    {
     "name": "stdout",
     "output_type": "stream",
     "text": [
      "<class 'pandas.core.frame.DataFrame'>\n",
      "RangeIndex: 4009 entries, 0 to 4008\n",
      "Data columns (total 12 columns):\n",
      " #   Column        Non-Null Count  Dtype \n",
      "---  ------        --------------  ----- \n",
      " 0   brand         4009 non-null   object\n",
      " 1   model         4009 non-null   object\n",
      " 2   model_year    4009 non-null   int64 \n",
      " 3   milage        4009 non-null   object\n",
      " 4   fuel_type     3839 non-null   object\n",
      " 5   engine        4009 non-null   object\n",
      " 6   transmission  4009 non-null   object\n",
      " 7   ext_col       4009 non-null   object\n",
      " 8   int_col       4009 non-null   object\n",
      " 9   accident      3896 non-null   object\n",
      " 10  clean_title   3413 non-null   object\n",
      " 11  price         4009 non-null   object\n",
      "dtypes: int64(1), object(11)\n",
      "memory usage: 376.0+ KB\n"
     ]
    }
   ],
   "source": [
    "# 변수 확인\n",
    "data.info()"
   ]
  },
  {
   "cell_type": "markdown",
   "metadata": {},
   "source": [
    "* **Brand & Model:** Identify the brand or company name along with the specific model of each vehicle.\n",
    "* **Model Year:** Discover the manufacturing year of the vehicles, crucial for assessing depreciation and technology advancements.\n",
    "* **Mileage:** Obtain the mileage of each vehicle, a key indicator of wear and tear and potential maintenance requirements.\n",
    "* **Fuel Type:** Learn about the type of fuel the vehicles run on, whether it's gasoline, diesel, electric, or hybrid.\n",
    "* **Engine Type:** Understand the engine specifications, shedding light on performance and efficiency.\n",
    "* **Transmission:** Determine the transmission type, whether automatic, manual, or another variant.\n",
    "* **Exterior & Interior Colors:** Explore the aesthetic aspects of the vehicles, including exterior and interior color options.\n",
    "* **Accident History:** Discover whether a vehicle has a prior history of accidents or damage, crucial for informed decision-making.\n",
    "* **Clean Title:** Evaluate the availability of a clean title, which can impact the vehicle's resale value and legal status.\n",
    "* **Price:** Access the listed prices for each vehicle, aiding in price comparison and budgeting"
   ]
  },
  {
   "cell_type": "markdown",
   "metadata": {},
   "source": [
    "<br/>\n",
    "<span style=\"color:blue\"> 데이터 준비 </span>"
   ]
  },
  {
   "cell_type": "markdown",
   "metadata": {},
   "source": [
    "### 결측치 처리"
   ]
  },
  {
   "cell_type": "code",
   "execution_count": 107,
   "metadata": {},
   "outputs": [
    {
     "data": {
      "text/plain": [
       "brand             0\n",
       "model             0\n",
       "model_year        0\n",
       "milage            0\n",
       "fuel_type       170\n",
       "engine            0\n",
       "transmission      0\n",
       "ext_col           0\n",
       "int_col           0\n",
       "accident        113\n",
       "clean_title     596\n",
       "price             0\n",
       "dtype: int64"
      ]
     },
     "execution_count": 107,
     "metadata": {},
     "output_type": "execute_result"
    }
   ],
   "source": [
    "data.isna().sum()"
   ]
  },
  {
   "cell_type": "markdown",
   "metadata": {},
   "source": [
    "**fuel_type 결측치 처리**"
   ]
  },
  {
   "cell_type": "markdown",
   "metadata": {},
   "source": [
    "model 값이 동일한 행의 fuel_type 값을 넣어줌"
   ]
  },
  {
   "cell_type": "code",
   "execution_count": 108,
   "metadata": {},
   "outputs": [
    {
     "data": {
      "text/html": [
       "<div>\n",
       "<style scoped>\n",
       "    .dataframe tbody tr th:only-of-type {\n",
       "        vertical-align: middle;\n",
       "    }\n",
       "\n",
       "    .dataframe tbody tr th {\n",
       "        vertical-align: top;\n",
       "    }\n",
       "\n",
       "    .dataframe thead th {\n",
       "        text-align: right;\n",
       "    }\n",
       "</style>\n",
       "<table border=\"1\" class=\"dataframe\">\n",
       "  <thead>\n",
       "    <tr style=\"text-align: right;\">\n",
       "      <th></th>\n",
       "      <th>brand</th>\n",
       "      <th>model</th>\n",
       "      <th>model_year</th>\n",
       "      <th>milage</th>\n",
       "      <th>fuel_type</th>\n",
       "      <th>engine</th>\n",
       "      <th>transmission</th>\n",
       "      <th>ext_col</th>\n",
       "      <th>int_col</th>\n",
       "      <th>accident</th>\n",
       "      <th>clean_title</th>\n",
       "      <th>price</th>\n",
       "    </tr>\n",
       "  </thead>\n",
       "  <tbody>\n",
       "    <tr>\n",
       "      <th>704</th>\n",
       "      <td>FIAT</td>\n",
       "      <td>124 Spider Abarth</td>\n",
       "      <td>2017</td>\n",
       "      <td>45,000 mi.</td>\n",
       "      <td>Gasoline</td>\n",
       "      <td>164.0HP 1.4L 4 Cylinder Engine Gasoline Fuel</td>\n",
       "      <td>6-Speed M/T</td>\n",
       "      <td>Gray</td>\n",
       "      <td>Black</td>\n",
       "      <td>At least 1 accident or damage reported</td>\n",
       "      <td>Yes</td>\n",
       "      <td>$22,500</td>\n",
       "    </tr>\n",
       "    <tr>\n",
       "      <th>2900</th>\n",
       "      <td>BMW</td>\n",
       "      <td>128 i</td>\n",
       "      <td>2013</td>\n",
       "      <td>67,874 mi.</td>\n",
       "      <td>Gasoline</td>\n",
       "      <td>230.0HP 3.0L Straight 6 Cylinder Engine Gasoli...</td>\n",
       "      <td>6-Speed A/T</td>\n",
       "      <td>Gray</td>\n",
       "      <td>Black</td>\n",
       "      <td>None reported</td>\n",
       "      <td>Yes</td>\n",
       "      <td>$18,000</td>\n",
       "    </tr>\n",
       "    <tr>\n",
       "      <th>509</th>\n",
       "      <td>BMW</td>\n",
       "      <td>135 i</td>\n",
       "      <td>2008</td>\n",
       "      <td>87,000 mi.</td>\n",
       "      <td>Gasoline</td>\n",
       "      <td>300.0HP 3.0L Straight 6 Cylinder Engine Gasoli...</td>\n",
       "      <td>A/T</td>\n",
       "      <td>White</td>\n",
       "      <td>Beige</td>\n",
       "      <td>None reported</td>\n",
       "      <td>Yes</td>\n",
       "      <td>$15,300</td>\n",
       "    </tr>\n",
       "    <tr>\n",
       "      <th>1507</th>\n",
       "      <td>BMW</td>\n",
       "      <td>135 i</td>\n",
       "      <td>2011</td>\n",
       "      <td>132,000 mi.</td>\n",
       "      <td>Gasoline</td>\n",
       "      <td>300.0HP 3.0L Straight 6 Cylinder Engine Gasoli...</td>\n",
       "      <td>7-Speed A/T</td>\n",
       "      <td>Black</td>\n",
       "      <td>Beige</td>\n",
       "      <td>None reported</td>\n",
       "      <td>Yes</td>\n",
       "      <td>$11,000</td>\n",
       "    </tr>\n",
       "    <tr>\n",
       "      <th>715</th>\n",
       "      <td>BMW</td>\n",
       "      <td>135 i</td>\n",
       "      <td>2009</td>\n",
       "      <td>72,900 mi.</td>\n",
       "      <td>Gasoline</td>\n",
       "      <td>300.0HP 3.0L Straight 6 Cylinder Engine Gasoli...</td>\n",
       "      <td>6-Speed A/T</td>\n",
       "      <td>Gray</td>\n",
       "      <td>Gray</td>\n",
       "      <td>None reported</td>\n",
       "      <td>Yes</td>\n",
       "      <td>$15,500</td>\n",
       "    </tr>\n",
       "    <tr>\n",
       "      <th>...</th>\n",
       "      <td>...</td>\n",
       "      <td>...</td>\n",
       "      <td>...</td>\n",
       "      <td>...</td>\n",
       "      <td>...</td>\n",
       "      <td>...</td>\n",
       "      <td>...</td>\n",
       "      <td>...</td>\n",
       "      <td>...</td>\n",
       "      <td>...</td>\n",
       "      <td>...</td>\n",
       "      <td>...</td>\n",
       "    </tr>\n",
       "    <tr>\n",
       "      <th>3855</th>\n",
       "      <td>Scion</td>\n",
       "      <td>tC Anniversary Edition</td>\n",
       "      <td>2014</td>\n",
       "      <td>99,999 mi.</td>\n",
       "      <td>Gasoline</td>\n",
       "      <td>179.0HP 2.5L 4 Cylinder Engine Gasoline Fuel</td>\n",
       "      <td>6-Speed M/T</td>\n",
       "      <td>White</td>\n",
       "      <td>Black</td>\n",
       "      <td>None reported</td>\n",
       "      <td>Yes</td>\n",
       "      <td>$10,998</td>\n",
       "    </tr>\n",
       "    <tr>\n",
       "      <th>1284</th>\n",
       "      <td>Scion</td>\n",
       "      <td>tC Anniversary Edition</td>\n",
       "      <td>2014</td>\n",
       "      <td>115,000 mi.</td>\n",
       "      <td>Gasoline</td>\n",
       "      <td>179.0HP 2.5L 4 Cylinder Engine Gasoline Fuel</td>\n",
       "      <td>6-Speed M/T</td>\n",
       "      <td>Silver</td>\n",
       "      <td>Silver</td>\n",
       "      <td>None reported</td>\n",
       "      <td>Yes</td>\n",
       "      <td>$11,495</td>\n",
       "    </tr>\n",
       "    <tr>\n",
       "      <th>177</th>\n",
       "      <td>Scion</td>\n",
       "      <td>tC Base</td>\n",
       "      <td>2013</td>\n",
       "      <td>177,600 mi.</td>\n",
       "      <td>Gasoline</td>\n",
       "      <td>180.0HP 2.5L 4 Cylinder Engine Gasoline Fuel</td>\n",
       "      <td>6-Speed A/T</td>\n",
       "      <td>Silver</td>\n",
       "      <td>Black</td>\n",
       "      <td>At least 1 accident or damage reported</td>\n",
       "      <td>Yes</td>\n",
       "      <td>$7,100</td>\n",
       "    </tr>\n",
       "    <tr>\n",
       "      <th>690</th>\n",
       "      <td>Scion</td>\n",
       "      <td>tC Release Series 6.0</td>\n",
       "      <td>2010</td>\n",
       "      <td>120,010 mi.</td>\n",
       "      <td>Gasoline</td>\n",
       "      <td>161.0HP 2.4L 4 Cylinder Engine Gasoline Fuel</td>\n",
       "      <td>4-Speed A/T</td>\n",
       "      <td>Gray</td>\n",
       "      <td>Black</td>\n",
       "      <td>At least 1 accident or damage reported</td>\n",
       "      <td>Yes</td>\n",
       "      <td>$6,500</td>\n",
       "    </tr>\n",
       "    <tr>\n",
       "      <th>3602</th>\n",
       "      <td>Scion</td>\n",
       "      <td>xB Base</td>\n",
       "      <td>2011</td>\n",
       "      <td>95,426 mi.</td>\n",
       "      <td>Gasoline</td>\n",
       "      <td>158.0HP 2.4L 4 Cylinder Engine Gasoline Fuel</td>\n",
       "      <td>A/T</td>\n",
       "      <td>Green</td>\n",
       "      <td>Gray</td>\n",
       "      <td>None reported</td>\n",
       "      <td>Yes</td>\n",
       "      <td>$8,000</td>\n",
       "    </tr>\n",
       "  </tbody>\n",
       "</table>\n",
       "<p>4009 rows × 12 columns</p>\n",
       "</div>"
      ],
      "text/plain": [
       "      brand                   model  model_year       milage fuel_type  \\\n",
       "704    FIAT       124 Spider Abarth        2017   45,000 mi.  Gasoline   \n",
       "2900    BMW                   128 i        2013   67,874 mi.  Gasoline   \n",
       "509     BMW                   135 i        2008   87,000 mi.  Gasoline   \n",
       "1507    BMW                   135 i        2011  132,000 mi.  Gasoline   \n",
       "715     BMW                   135 i        2009   72,900 mi.  Gasoline   \n",
       "...     ...                     ...         ...          ...       ...   \n",
       "3855  Scion  tC Anniversary Edition        2014   99,999 mi.  Gasoline   \n",
       "1284  Scion  tC Anniversary Edition        2014  115,000 mi.  Gasoline   \n",
       "177   Scion                 tC Base        2013  177,600 mi.  Gasoline   \n",
       "690   Scion   tC Release Series 6.0        2010  120,010 mi.  Gasoline   \n",
       "3602  Scion                 xB Base        2011   95,426 mi.  Gasoline   \n",
       "\n",
       "                                                 engine transmission ext_col  \\\n",
       "704        164.0HP 1.4L 4 Cylinder Engine Gasoline Fuel  6-Speed M/T    Gray   \n",
       "2900  230.0HP 3.0L Straight 6 Cylinder Engine Gasoli...  6-Speed A/T    Gray   \n",
       "509   300.0HP 3.0L Straight 6 Cylinder Engine Gasoli...          A/T   White   \n",
       "1507  300.0HP 3.0L Straight 6 Cylinder Engine Gasoli...  7-Speed A/T   Black   \n",
       "715   300.0HP 3.0L Straight 6 Cylinder Engine Gasoli...  6-Speed A/T    Gray   \n",
       "...                                                 ...          ...     ...   \n",
       "3855       179.0HP 2.5L 4 Cylinder Engine Gasoline Fuel  6-Speed M/T   White   \n",
       "1284       179.0HP 2.5L 4 Cylinder Engine Gasoline Fuel  6-Speed M/T  Silver   \n",
       "177        180.0HP 2.5L 4 Cylinder Engine Gasoline Fuel  6-Speed A/T  Silver   \n",
       "690        161.0HP 2.4L 4 Cylinder Engine Gasoline Fuel  4-Speed A/T    Gray   \n",
       "3602       158.0HP 2.4L 4 Cylinder Engine Gasoline Fuel          A/T   Green   \n",
       "\n",
       "     int_col                                accident clean_title    price  \n",
       "704    Black  At least 1 accident or damage reported         Yes  $22,500  \n",
       "2900   Black                           None reported         Yes  $18,000  \n",
       "509    Beige                           None reported         Yes  $15,300  \n",
       "1507   Beige                           None reported         Yes  $11,000  \n",
       "715     Gray                           None reported         Yes  $15,500  \n",
       "...      ...                                     ...         ...      ...  \n",
       "3855   Black                           None reported         Yes  $10,998  \n",
       "1284  Silver                           None reported         Yes  $11,495  \n",
       "177    Black  At least 1 accident or damage reported         Yes   $7,100  \n",
       "690    Black  At least 1 accident or damage reported         Yes   $6,500  \n",
       "3602    Gray                           None reported         Yes   $8,000  \n",
       "\n",
       "[4009 rows x 12 columns]"
      ]
     },
     "execution_count": 108,
     "metadata": {},
     "output_type": "execute_result"
    }
   ],
   "source": [
    "# 모델을 기준으로 정렬\n",
    "data = data.sort_values('model')\n",
    "data"
   ]
  },
  {
   "cell_type": "code",
   "execution_count": 109,
   "metadata": {},
   "outputs": [
    {
     "data": {
      "text/html": [
       "<div>\n",
       "<style scoped>\n",
       "    .dataframe tbody tr th:only-of-type {\n",
       "        vertical-align: middle;\n",
       "    }\n",
       "\n",
       "    .dataframe tbody tr th {\n",
       "        vertical-align: top;\n",
       "    }\n",
       "\n",
       "    .dataframe thead th {\n",
       "        text-align: right;\n",
       "    }\n",
       "</style>\n",
       "<table border=\"1\" class=\"dataframe\">\n",
       "  <thead>\n",
       "    <tr style=\"text-align: right;\">\n",
       "      <th></th>\n",
       "      <th>model</th>\n",
       "      <th>fuel_type</th>\n",
       "    </tr>\n",
       "  </thead>\n",
       "  <tbody>\n",
       "    <tr>\n",
       "      <th>0</th>\n",
       "      <td>124 Spider Abarth</td>\n",
       "      <td>1</td>\n",
       "    </tr>\n",
       "    <tr>\n",
       "      <th>1</th>\n",
       "      <td>128 i</td>\n",
       "      <td>1</td>\n",
       "    </tr>\n",
       "    <tr>\n",
       "      <th>2</th>\n",
       "      <td>135 i</td>\n",
       "      <td>3</td>\n",
       "    </tr>\n",
       "    <tr>\n",
       "      <th>3</th>\n",
       "      <td>135 is</td>\n",
       "      <td>1</td>\n",
       "    </tr>\n",
       "    <tr>\n",
       "      <th>4</th>\n",
       "      <td>1500 Big Horn</td>\n",
       "      <td>11</td>\n",
       "    </tr>\n",
       "    <tr>\n",
       "      <th>...</th>\n",
       "      <td>...</td>\n",
       "      <td>...</td>\n",
       "    </tr>\n",
       "    <tr>\n",
       "      <th>1893</th>\n",
       "      <td>i8 Base</td>\n",
       "      <td>5</td>\n",
       "    </tr>\n",
       "    <tr>\n",
       "      <th>1894</th>\n",
       "      <td>tC Anniversary Edition</td>\n",
       "      <td>2</td>\n",
       "    </tr>\n",
       "    <tr>\n",
       "      <th>1895</th>\n",
       "      <td>tC Base</td>\n",
       "      <td>1</td>\n",
       "    </tr>\n",
       "    <tr>\n",
       "      <th>1896</th>\n",
       "      <td>tC Release Series 6.0</td>\n",
       "      <td>1</td>\n",
       "    </tr>\n",
       "    <tr>\n",
       "      <th>1897</th>\n",
       "      <td>xB Base</td>\n",
       "      <td>1</td>\n",
       "    </tr>\n",
       "  </tbody>\n",
       "</table>\n",
       "<p>1898 rows × 2 columns</p>\n",
       "</div>"
      ],
      "text/plain": [
       "                       model  fuel_type\n",
       "0          124 Spider Abarth          1\n",
       "1                      128 i          1\n",
       "2                      135 i          3\n",
       "3                     135 is          1\n",
       "4              1500 Big Horn         11\n",
       "...                      ...        ...\n",
       "1893                 i8 Base          5\n",
       "1894  tC Anniversary Edition          2\n",
       "1895                 tC Base          1\n",
       "1896   tC Release Series 6.0          1\n",
       "1897                 xB Base          1\n",
       "\n",
       "[1898 rows x 2 columns]"
      ]
     },
     "execution_count": 109,
     "metadata": {},
     "output_type": "execute_result"
    }
   ],
   "source": [
    "df = data.groupby('model', as_index = False)[['fuel_type']].count()\n",
    "df"
   ]
  },
  {
   "cell_type": "code",
   "execution_count": 9,
   "metadata": {},
   "outputs": [
    {
     "data": {
      "text/html": [
       "<div>\n",
       "<style scoped>\n",
       "    .dataframe tbody tr th:only-of-type {\n",
       "        vertical-align: middle;\n",
       "    }\n",
       "\n",
       "    .dataframe tbody tr th {\n",
       "        vertical-align: top;\n",
       "    }\n",
       "\n",
       "    .dataframe thead th {\n",
       "        text-align: right;\n",
       "    }\n",
       "</style>\n",
       "<table border=\"1\" class=\"dataframe\">\n",
       "  <thead>\n",
       "    <tr style=\"text-align: right;\">\n",
       "      <th></th>\n",
       "      <th>model</th>\n",
       "      <th>fuel_type</th>\n",
       "    </tr>\n",
       "  </thead>\n",
       "  <tbody>\n",
       "    <tr>\n",
       "      <th>18</th>\n",
       "      <td>2 Launch Edition</td>\n",
       "      <td>0</td>\n",
       "    </tr>\n",
       "    <tr>\n",
       "      <th>95</th>\n",
       "      <td>500e Battery Electric</td>\n",
       "      <td>0</td>\n",
       "    </tr>\n",
       "    <tr>\n",
       "      <th>258</th>\n",
       "      <td>Air Grand Touring</td>\n",
       "      <td>0</td>\n",
       "    </tr>\n",
       "    <tr>\n",
       "      <th>259</th>\n",
       "      <td>Air Pure</td>\n",
       "      <td>0</td>\n",
       "    </tr>\n",
       "    <tr>\n",
       "      <th>309</th>\n",
       "      <td>Bolt EUV Premier</td>\n",
       "      <td>0</td>\n",
       "    </tr>\n",
       "    <tr>\n",
       "      <th>...</th>\n",
       "      <td>...</td>\n",
       "      <td>...</td>\n",
       "    </tr>\n",
       "    <tr>\n",
       "      <th>1887</th>\n",
       "      <td>e-tron Premium</td>\n",
       "      <td>0</td>\n",
       "    </tr>\n",
       "    <tr>\n",
       "      <th>1888</th>\n",
       "      <td>e-tron Prestige</td>\n",
       "      <td>0</td>\n",
       "    </tr>\n",
       "    <tr>\n",
       "      <th>1890</th>\n",
       "      <td>i3 94 Ah</td>\n",
       "      <td>0</td>\n",
       "    </tr>\n",
       "    <tr>\n",
       "      <th>1891</th>\n",
       "      <td>i3 Base</td>\n",
       "      <td>0</td>\n",
       "    </tr>\n",
       "    <tr>\n",
       "      <th>1892</th>\n",
       "      <td>i3 Base w/Range Extender</td>\n",
       "      <td>0</td>\n",
       "    </tr>\n",
       "  </tbody>\n",
       "</table>\n",
       "<p>72 rows × 2 columns</p>\n",
       "</div>"
      ],
      "text/plain": [
       "                         model  fuel_type\n",
       "18            2 Launch Edition          0\n",
       "95       500e Battery Electric          0\n",
       "258          Air Grand Touring          0\n",
       "259                   Air Pure          0\n",
       "309           Bolt EUV Premier          0\n",
       "...                        ...        ...\n",
       "1887            e-tron Premium          0\n",
       "1888           e-tron Prestige          0\n",
       "1890                  i3 94 Ah          0\n",
       "1891                   i3 Base          0\n",
       "1892  i3 Base w/Range Extender          0\n",
       "\n",
       "[72 rows x 2 columns]"
      ]
     },
     "execution_count": 9,
     "metadata": {},
     "output_type": "execute_result"
    }
   ],
   "source": [
    "# fuel_type 값이 NaN인데 동일한 model 값도 존재하지 않는 경우\n",
    "df[df['fuel_type'] == 0]"
   ]
  },
  {
   "cell_type": "code",
   "execution_count": 110,
   "metadata": {},
   "outputs": [
    {
     "data": {
      "text/plain": [
       "pandas.core.frame.DataFrame"
      ]
     },
     "execution_count": 110,
     "metadata": {},
     "output_type": "execute_result"
    }
   ],
   "source": [
    "type(df)"
   ]
  },
  {
   "cell_type": "code",
   "execution_count": 111,
   "metadata": {},
   "outputs": [
    {
     "data": {
      "text/plain": [
       "0    Gasoline\n",
       "dtype: object"
      ]
     },
     "execution_count": 111,
     "metadata": {},
     "output_type": "execute_result"
    }
   ],
   "source": [
    "# fuel_type 열의 최빈값\n",
    "data['fuel_type'].mode()"
   ]
  },
  {
   "cell_type": "code",
   "execution_count": 112,
   "metadata": {
    "scrolled": false
   },
   "outputs": [
    {
     "data": {
      "text/plain": [
       "brand             0\n",
       "model             0\n",
       "model_year        0\n",
       "milage            0\n",
       "fuel_type         0\n",
       "engine            0\n",
       "transmission      0\n",
       "ext_col           0\n",
       "int_col           0\n",
       "accident        113\n",
       "clean_title     596\n",
       "price             0\n",
       "dtype: int64"
      ]
     },
     "execution_count": 112,
     "metadata": {},
     "output_type": "execute_result"
    }
   ],
   "source": [
    "for index, row in data.iterrows() :\n",
    "    if (type(row.fuel_type) == str) and (len(row.fuel_type) >= 2) :\n",
    "        continue\n",
    "        \n",
    "    else :  \n",
    "        d = df.loc[df['model'] == row.model]\n",
    "        \n",
    "        if (d['fuel_type'].any() != 0) :\n",
    "            try : \n",
    "                data.fuel_type.fillna(method = 'bfill', limit = 1, inplace = True)\n",
    "            except :\n",
    "                continue\n",
    "                \n",
    "        else :\n",
    "            try :\n",
    "                data.fuel_type.fillna('Gasoline', inplace = True)\n",
    "            except :\n",
    "                continue\n",
    "\n",
    "data.isna().sum()"
   ]
  },
  {
   "cell_type": "code",
   "execution_count": 113,
   "metadata": {},
   "outputs": [
    {
     "data": {
      "text/html": [
       "<div>\n",
       "<style scoped>\n",
       "    .dataframe tbody tr th:only-of-type {\n",
       "        vertical-align: middle;\n",
       "    }\n",
       "\n",
       "    .dataframe tbody tr th {\n",
       "        vertical-align: top;\n",
       "    }\n",
       "\n",
       "    .dataframe thead th {\n",
       "        text-align: right;\n",
       "    }\n",
       "</style>\n",
       "<table border=\"1\" class=\"dataframe\">\n",
       "  <thead>\n",
       "    <tr style=\"text-align: right;\">\n",
       "      <th></th>\n",
       "      <th>brand</th>\n",
       "      <th>model</th>\n",
       "      <th>model_year</th>\n",
       "      <th>milage</th>\n",
       "      <th>fuel_type</th>\n",
       "      <th>engine</th>\n",
       "      <th>transmission</th>\n",
       "      <th>ext_col</th>\n",
       "      <th>int_col</th>\n",
       "      <th>accident</th>\n",
       "      <th>clean_title</th>\n",
       "      <th>price</th>\n",
       "    </tr>\n",
       "  </thead>\n",
       "  <tbody>\n",
       "    <tr>\n",
       "      <th>1940</th>\n",
       "      <td>Ford</td>\n",
       "      <td>F-250 Lariat</td>\n",
       "      <td>2019</td>\n",
       "      <td>85,000 mi.</td>\n",
       "      <td>Diesel</td>\n",
       "      <td>450.0HP 6.7L 8 Cylinder Engine Diesel Fuel</td>\n",
       "      <td>6-Speed A/T</td>\n",
       "      <td>Black</td>\n",
       "      <td>Black</td>\n",
       "      <td>At least 1 accident or damage reported</td>\n",
       "      <td>Yes</td>\n",
       "      <td>$52,500</td>\n",
       "    </tr>\n",
       "    <tr>\n",
       "      <th>1059</th>\n",
       "      <td>Chevrolet</td>\n",
       "      <td>Silverado 3500 High Country</td>\n",
       "      <td>2015</td>\n",
       "      <td>77,500 mi.</td>\n",
       "      <td>Diesel</td>\n",
       "      <td>397.0HP 6.6L 8 Cylinder Engine Diesel Fuel</td>\n",
       "      <td>6-Speed A/T</td>\n",
       "      <td>Black</td>\n",
       "      <td>Brown</td>\n",
       "      <td>None reported</td>\n",
       "      <td>Yes</td>\n",
       "      <td>$54,000</td>\n",
       "    </tr>\n",
       "    <tr>\n",
       "      <th>1281</th>\n",
       "      <td>Chevrolet</td>\n",
       "      <td>Silverado 3500 LTZ</td>\n",
       "      <td>2022</td>\n",
       "      <td>85,200 mi.</td>\n",
       "      <td>Diesel</td>\n",
       "      <td>445.0HP 6.6L 8 Cylinder Engine Diesel Fuel</td>\n",
       "      <td>10-Speed A/T</td>\n",
       "      <td>Silver</td>\n",
       "      <td>Gray</td>\n",
       "      <td>None reported</td>\n",
       "      <td>Yes</td>\n",
       "      <td>$67,500</td>\n",
       "    </tr>\n",
       "    <tr>\n",
       "      <th>1635</th>\n",
       "      <td>Chevrolet</td>\n",
       "      <td>Silverado 3500 LTZ</td>\n",
       "      <td>2018</td>\n",
       "      <td>92,149 mi.</td>\n",
       "      <td>Diesel</td>\n",
       "      <td>6.6L V8 32V DDI OHV Turbo Diesel</td>\n",
       "      <td>6-Speed Automatic</td>\n",
       "      <td>Black</td>\n",
       "      <td>Jet Black</td>\n",
       "      <td>NaN</td>\n",
       "      <td>NaN</td>\n",
       "      <td>$52,889</td>\n",
       "    </tr>\n",
       "    <tr>\n",
       "      <th>502</th>\n",
       "      <td>Chevrolet</td>\n",
       "      <td>Express 3500 LT</td>\n",
       "      <td>2016</td>\n",
       "      <td>120,000 mi.</td>\n",
       "      <td>Diesel</td>\n",
       "      <td>260.0HP 6.6L 8 Cylinder Engine Diesel Fuel</td>\n",
       "      <td>6-Speed A/T</td>\n",
       "      <td>White</td>\n",
       "      <td>Gray</td>\n",
       "      <td>None reported</td>\n",
       "      <td>Yes</td>\n",
       "      <td>$19,500</td>\n",
       "    </tr>\n",
       "    <tr>\n",
       "      <th>...</th>\n",
       "      <td>...</td>\n",
       "      <td>...</td>\n",
       "      <td>...</td>\n",
       "      <td>...</td>\n",
       "      <td>...</td>\n",
       "      <td>...</td>\n",
       "      <td>...</td>\n",
       "      <td>...</td>\n",
       "      <td>...</td>\n",
       "      <td>...</td>\n",
       "      <td>...</td>\n",
       "      <td>...</td>\n",
       "    </tr>\n",
       "    <tr>\n",
       "      <th>2303</th>\n",
       "      <td>Acura</td>\n",
       "      <td>NSX Base</td>\n",
       "      <td>1993</td>\n",
       "      <td>75,980 mi.</td>\n",
       "      <td>–</td>\n",
       "      <td>–</td>\n",
       "      <td>A/T</td>\n",
       "      <td>Silver</td>\n",
       "      <td>Black</td>\n",
       "      <td>None reported</td>\n",
       "      <td>Yes</td>\n",
       "      <td>$90,200</td>\n",
       "    </tr>\n",
       "    <tr>\n",
       "      <th>2103</th>\n",
       "      <td>Volvo</td>\n",
       "      <td>850 Turbo</td>\n",
       "      <td>1995</td>\n",
       "      <td>94,000 mi.</td>\n",
       "      <td>–</td>\n",
       "      <td>–</td>\n",
       "      <td>A/T</td>\n",
       "      <td>White</td>\n",
       "      <td>Black</td>\n",
       "      <td>None reported</td>\n",
       "      <td>Yes</td>\n",
       "      <td>$4,500</td>\n",
       "    </tr>\n",
       "    <tr>\n",
       "      <th>855</th>\n",
       "      <td>Ford</td>\n",
       "      <td>Bronco</td>\n",
       "      <td>1974</td>\n",
       "      <td>6,217 mi.</td>\n",
       "      <td>–</td>\n",
       "      <td>–</td>\n",
       "      <td>–</td>\n",
       "      <td>Dark Gray Metallic</td>\n",
       "      <td>–</td>\n",
       "      <td>None reported</td>\n",
       "      <td>Yes</td>\n",
       "      <td>$115,000</td>\n",
       "    </tr>\n",
       "    <tr>\n",
       "      <th>3213</th>\n",
       "      <td>Ford</td>\n",
       "      <td>Mustang EcoBoost Premium</td>\n",
       "      <td>2019</td>\n",
       "      <td>31,000 mi.</td>\n",
       "      <td>–</td>\n",
       "      <td>–</td>\n",
       "      <td>6-Speed M/T</td>\n",
       "      <td>Gray</td>\n",
       "      <td>Black</td>\n",
       "      <td>None reported</td>\n",
       "      <td>Yes</td>\n",
       "      <td>$34,700</td>\n",
       "    </tr>\n",
       "    <tr>\n",
       "      <th>3702</th>\n",
       "      <td>GMC</td>\n",
       "      <td>Sierra 1500 SLE1 Extended Cab</td>\n",
       "      <td>2008</td>\n",
       "      <td>187,000 mi.</td>\n",
       "      <td>–</td>\n",
       "      <td>–</td>\n",
       "      <td>4-Speed A/T</td>\n",
       "      <td>Red</td>\n",
       "      <td>Gray</td>\n",
       "      <td>At least 1 accident or damage reported</td>\n",
       "      <td>Yes</td>\n",
       "      <td>$6,100</td>\n",
       "    </tr>\n",
       "  </tbody>\n",
       "</table>\n",
       "<p>4009 rows × 12 columns</p>\n",
       "</div>"
      ],
      "text/plain": [
       "          brand                          model  model_year       milage  \\\n",
       "1940       Ford                   F-250 Lariat        2019   85,000 mi.   \n",
       "1059  Chevrolet    Silverado 3500 High Country        2015   77,500 mi.   \n",
       "1281  Chevrolet             Silverado 3500 LTZ        2022   85,200 mi.   \n",
       "1635  Chevrolet             Silverado 3500 LTZ        2018   92,149 mi.   \n",
       "502   Chevrolet                Express 3500 LT        2016  120,000 mi.   \n",
       "...         ...                            ...         ...          ...   \n",
       "2303      Acura                       NSX Base        1993   75,980 mi.   \n",
       "2103      Volvo                      850 Turbo        1995   94,000 mi.   \n",
       "855        Ford                         Bronco        1974    6,217 mi.   \n",
       "3213       Ford       Mustang EcoBoost Premium        2019   31,000 mi.   \n",
       "3702        GMC  Sierra 1500 SLE1 Extended Cab        2008  187,000 mi.   \n",
       "\n",
       "     fuel_type                                      engine       transmission  \\\n",
       "1940    Diesel  450.0HP 6.7L 8 Cylinder Engine Diesel Fuel        6-Speed A/T   \n",
       "1059    Diesel  397.0HP 6.6L 8 Cylinder Engine Diesel Fuel        6-Speed A/T   \n",
       "1281    Diesel  445.0HP 6.6L 8 Cylinder Engine Diesel Fuel       10-Speed A/T   \n",
       "1635    Diesel            6.6L V8 32V DDI OHV Turbo Diesel  6-Speed Automatic   \n",
       "502     Diesel  260.0HP 6.6L 8 Cylinder Engine Diesel Fuel        6-Speed A/T   \n",
       "...        ...                                         ...                ...   \n",
       "2303         –                                           –                A/T   \n",
       "2103         –                                           –                A/T   \n",
       "855          –                                           –                  –   \n",
       "3213         –                                           –        6-Speed M/T   \n",
       "3702         –                                           –        4-Speed A/T   \n",
       "\n",
       "                 ext_col    int_col                                accident  \\\n",
       "1940               Black      Black  At least 1 accident or damage reported   \n",
       "1059               Black      Brown                           None reported   \n",
       "1281              Silver       Gray                           None reported   \n",
       "1635               Black  Jet Black                                     NaN   \n",
       "502                White       Gray                           None reported   \n",
       "...                  ...        ...                                     ...   \n",
       "2303              Silver      Black                           None reported   \n",
       "2103               White      Black                           None reported   \n",
       "855   Dark Gray Metallic          –                           None reported   \n",
       "3213                Gray      Black                           None reported   \n",
       "3702                 Red       Gray  At least 1 accident or damage reported   \n",
       "\n",
       "     clean_title     price  \n",
       "1940         Yes   $52,500  \n",
       "1059         Yes   $54,000  \n",
       "1281         Yes   $67,500  \n",
       "1635         NaN   $52,889  \n",
       "502          Yes   $19,500  \n",
       "...          ...       ...  \n",
       "2303         Yes   $90,200  \n",
       "2103         Yes    $4,500  \n",
       "855          Yes  $115,000  \n",
       "3213         Yes   $34,700  \n",
       "3702         Yes    $6,100  \n",
       "\n",
       "[4009 rows x 12 columns]"
      ]
     },
     "execution_count": 113,
     "metadata": {},
     "output_type": "execute_result"
    }
   ],
   "source": [
    "data = data.sort_values('fuel_type')\n",
    "data"
   ]
  },
  {
   "cell_type": "code",
   "execution_count": 114,
   "metadata": {},
   "outputs": [
    {
     "data": {
      "text/plain": [
       "array(['Diesel', 'E85 Flex Fuel', 'Gasoline', 'Hybrid', 'Plug-In Hybrid',\n",
       "       'not supported', '–'], dtype=object)"
      ]
     },
     "execution_count": 114,
     "metadata": {},
     "output_type": "execute_result"
    }
   ],
   "source": [
    "data['fuel_type'].unique()"
   ]
  },
  {
   "cell_type": "code",
   "execution_count": 115,
   "metadata": {},
   "outputs": [
    {
     "data": {
      "text/html": [
       "<div>\n",
       "<style scoped>\n",
       "    .dataframe tbody tr th:only-of-type {\n",
       "        vertical-align: middle;\n",
       "    }\n",
       "\n",
       "    .dataframe tbody tr th {\n",
       "        vertical-align: top;\n",
       "    }\n",
       "\n",
       "    .dataframe thead th {\n",
       "        text-align: right;\n",
       "    }\n",
       "</style>\n",
       "<table border=\"1\" class=\"dataframe\">\n",
       "  <thead>\n",
       "    <tr style=\"text-align: right;\">\n",
       "      <th></th>\n",
       "      <th>brand</th>\n",
       "      <th>model</th>\n",
       "      <th>model_year</th>\n",
       "      <th>milage</th>\n",
       "      <th>fuel_type</th>\n",
       "      <th>engine</th>\n",
       "      <th>transmission</th>\n",
       "      <th>ext_col</th>\n",
       "      <th>int_col</th>\n",
       "      <th>accident</th>\n",
       "      <th>clean_title</th>\n",
       "      <th>price</th>\n",
       "    </tr>\n",
       "  </thead>\n",
       "  <tbody>\n",
       "    <tr>\n",
       "      <th>704</th>\n",
       "      <td>FIAT</td>\n",
       "      <td>124 Spider Abarth</td>\n",
       "      <td>2017</td>\n",
       "      <td>45,000 mi.</td>\n",
       "      <td>Gasoline</td>\n",
       "      <td>164.0HP 1.4L 4 Cylinder Engine Gasoline Fuel</td>\n",
       "      <td>6-Speed M/T</td>\n",
       "      <td>Gray</td>\n",
       "      <td>Black</td>\n",
       "      <td>At least 1 accident or damage reported</td>\n",
       "      <td>Yes</td>\n",
       "      <td>$22,500</td>\n",
       "    </tr>\n",
       "    <tr>\n",
       "      <th>2900</th>\n",
       "      <td>BMW</td>\n",
       "      <td>128 i</td>\n",
       "      <td>2013</td>\n",
       "      <td>67,874 mi.</td>\n",
       "      <td>Gasoline</td>\n",
       "      <td>230.0HP 3.0L Straight 6 Cylinder Engine Gasoli...</td>\n",
       "      <td>6-Speed A/T</td>\n",
       "      <td>Gray</td>\n",
       "      <td>Black</td>\n",
       "      <td>None reported</td>\n",
       "      <td>Yes</td>\n",
       "      <td>$18,000</td>\n",
       "    </tr>\n",
       "    <tr>\n",
       "      <th>715</th>\n",
       "      <td>BMW</td>\n",
       "      <td>135 i</td>\n",
       "      <td>2009</td>\n",
       "      <td>72,900 mi.</td>\n",
       "      <td>Gasoline</td>\n",
       "      <td>300.0HP 3.0L Straight 6 Cylinder Engine Gasoli...</td>\n",
       "      <td>6-Speed A/T</td>\n",
       "      <td>Gray</td>\n",
       "      <td>Gray</td>\n",
       "      <td>None reported</td>\n",
       "      <td>Yes</td>\n",
       "      <td>$15,500</td>\n",
       "    </tr>\n",
       "    <tr>\n",
       "      <th>1507</th>\n",
       "      <td>BMW</td>\n",
       "      <td>135 i</td>\n",
       "      <td>2011</td>\n",
       "      <td>132,000 mi.</td>\n",
       "      <td>Gasoline</td>\n",
       "      <td>300.0HP 3.0L Straight 6 Cylinder Engine Gasoli...</td>\n",
       "      <td>7-Speed A/T</td>\n",
       "      <td>Black</td>\n",
       "      <td>Beige</td>\n",
       "      <td>None reported</td>\n",
       "      <td>Yes</td>\n",
       "      <td>$11,000</td>\n",
       "    </tr>\n",
       "    <tr>\n",
       "      <th>509</th>\n",
       "      <td>BMW</td>\n",
       "      <td>135 i</td>\n",
       "      <td>2008</td>\n",
       "      <td>87,000 mi.</td>\n",
       "      <td>Gasoline</td>\n",
       "      <td>300.0HP 3.0L Straight 6 Cylinder Engine Gasoli...</td>\n",
       "      <td>A/T</td>\n",
       "      <td>White</td>\n",
       "      <td>Beige</td>\n",
       "      <td>None reported</td>\n",
       "      <td>Yes</td>\n",
       "      <td>$15,300</td>\n",
       "    </tr>\n",
       "    <tr>\n",
       "      <th>...</th>\n",
       "      <td>...</td>\n",
       "      <td>...</td>\n",
       "      <td>...</td>\n",
       "      <td>...</td>\n",
       "      <td>...</td>\n",
       "      <td>...</td>\n",
       "      <td>...</td>\n",
       "      <td>...</td>\n",
       "      <td>...</td>\n",
       "      <td>...</td>\n",
       "      <td>...</td>\n",
       "      <td>...</td>\n",
       "    </tr>\n",
       "    <tr>\n",
       "      <th>3855</th>\n",
       "      <td>Scion</td>\n",
       "      <td>tC Anniversary Edition</td>\n",
       "      <td>2014</td>\n",
       "      <td>99,999 mi.</td>\n",
       "      <td>Gasoline</td>\n",
       "      <td>179.0HP 2.5L 4 Cylinder Engine Gasoline Fuel</td>\n",
       "      <td>6-Speed M/T</td>\n",
       "      <td>White</td>\n",
       "      <td>Black</td>\n",
       "      <td>None reported</td>\n",
       "      <td>Yes</td>\n",
       "      <td>$10,998</td>\n",
       "    </tr>\n",
       "    <tr>\n",
       "      <th>1284</th>\n",
       "      <td>Scion</td>\n",
       "      <td>tC Anniversary Edition</td>\n",
       "      <td>2014</td>\n",
       "      <td>115,000 mi.</td>\n",
       "      <td>Gasoline</td>\n",
       "      <td>179.0HP 2.5L 4 Cylinder Engine Gasoline Fuel</td>\n",
       "      <td>6-Speed M/T</td>\n",
       "      <td>Silver</td>\n",
       "      <td>Silver</td>\n",
       "      <td>None reported</td>\n",
       "      <td>Yes</td>\n",
       "      <td>$11,495</td>\n",
       "    </tr>\n",
       "    <tr>\n",
       "      <th>177</th>\n",
       "      <td>Scion</td>\n",
       "      <td>tC Base</td>\n",
       "      <td>2013</td>\n",
       "      <td>177,600 mi.</td>\n",
       "      <td>Gasoline</td>\n",
       "      <td>180.0HP 2.5L 4 Cylinder Engine Gasoline Fuel</td>\n",
       "      <td>6-Speed A/T</td>\n",
       "      <td>Silver</td>\n",
       "      <td>Black</td>\n",
       "      <td>At least 1 accident or damage reported</td>\n",
       "      <td>Yes</td>\n",
       "      <td>$7,100</td>\n",
       "    </tr>\n",
       "    <tr>\n",
       "      <th>690</th>\n",
       "      <td>Scion</td>\n",
       "      <td>tC Release Series 6.0</td>\n",
       "      <td>2010</td>\n",
       "      <td>120,010 mi.</td>\n",
       "      <td>Gasoline</td>\n",
       "      <td>161.0HP 2.4L 4 Cylinder Engine Gasoline Fuel</td>\n",
       "      <td>4-Speed A/T</td>\n",
       "      <td>Gray</td>\n",
       "      <td>Black</td>\n",
       "      <td>At least 1 accident or damage reported</td>\n",
       "      <td>Yes</td>\n",
       "      <td>$6,500</td>\n",
       "    </tr>\n",
       "    <tr>\n",
       "      <th>3602</th>\n",
       "      <td>Scion</td>\n",
       "      <td>xB Base</td>\n",
       "      <td>2011</td>\n",
       "      <td>95,426 mi.</td>\n",
       "      <td>Gasoline</td>\n",
       "      <td>158.0HP 2.4L 4 Cylinder Engine Gasoline Fuel</td>\n",
       "      <td>A/T</td>\n",
       "      <td>Green</td>\n",
       "      <td>Gray</td>\n",
       "      <td>None reported</td>\n",
       "      <td>Yes</td>\n",
       "      <td>$8,000</td>\n",
       "    </tr>\n",
       "  </tbody>\n",
       "</table>\n",
       "<p>4009 rows × 12 columns</p>\n",
       "</div>"
      ],
      "text/plain": [
       "      brand                   model  model_year       milage fuel_type  \\\n",
       "704    FIAT       124 Spider Abarth        2017   45,000 mi.  Gasoline   \n",
       "2900    BMW                   128 i        2013   67,874 mi.  Gasoline   \n",
       "715     BMW                   135 i        2009   72,900 mi.  Gasoline   \n",
       "1507    BMW                   135 i        2011  132,000 mi.  Gasoline   \n",
       "509     BMW                   135 i        2008   87,000 mi.  Gasoline   \n",
       "...     ...                     ...         ...          ...       ...   \n",
       "3855  Scion  tC Anniversary Edition        2014   99,999 mi.  Gasoline   \n",
       "1284  Scion  tC Anniversary Edition        2014  115,000 mi.  Gasoline   \n",
       "177   Scion                 tC Base        2013  177,600 mi.  Gasoline   \n",
       "690   Scion   tC Release Series 6.0        2010  120,010 mi.  Gasoline   \n",
       "3602  Scion                 xB Base        2011   95,426 mi.  Gasoline   \n",
       "\n",
       "                                                 engine transmission ext_col  \\\n",
       "704        164.0HP 1.4L 4 Cylinder Engine Gasoline Fuel  6-Speed M/T    Gray   \n",
       "2900  230.0HP 3.0L Straight 6 Cylinder Engine Gasoli...  6-Speed A/T    Gray   \n",
       "715   300.0HP 3.0L Straight 6 Cylinder Engine Gasoli...  6-Speed A/T    Gray   \n",
       "1507  300.0HP 3.0L Straight 6 Cylinder Engine Gasoli...  7-Speed A/T   Black   \n",
       "509   300.0HP 3.0L Straight 6 Cylinder Engine Gasoli...          A/T   White   \n",
       "...                                                 ...          ...     ...   \n",
       "3855       179.0HP 2.5L 4 Cylinder Engine Gasoline Fuel  6-Speed M/T   White   \n",
       "1284       179.0HP 2.5L 4 Cylinder Engine Gasoline Fuel  6-Speed M/T  Silver   \n",
       "177        180.0HP 2.5L 4 Cylinder Engine Gasoline Fuel  6-Speed A/T  Silver   \n",
       "690        161.0HP 2.4L 4 Cylinder Engine Gasoline Fuel  4-Speed A/T    Gray   \n",
       "3602       158.0HP 2.4L 4 Cylinder Engine Gasoline Fuel          A/T   Green   \n",
       "\n",
       "     int_col                                accident clean_title    price  \n",
       "704    Black  At least 1 accident or damage reported         Yes  $22,500  \n",
       "2900   Black                           None reported         Yes  $18,000  \n",
       "715     Gray                           None reported         Yes  $15,500  \n",
       "1507   Beige                           None reported         Yes  $11,000  \n",
       "509    Beige                           None reported         Yes  $15,300  \n",
       "...      ...                                     ...         ...      ...  \n",
       "3855   Black                           None reported         Yes  $10,998  \n",
       "1284  Silver                           None reported         Yes  $11,495  \n",
       "177    Black  At least 1 accident or damage reported         Yes   $7,100  \n",
       "690    Black  At least 1 accident or damage reported         Yes   $6,500  \n",
       "3602    Gray                           None reported         Yes   $8,000  \n",
       "\n",
       "[4009 rows x 12 columns]"
      ]
     },
     "execution_count": 115,
     "metadata": {},
     "output_type": "execute_result"
    }
   ],
   "source": [
    "data = data.sort_values('model')\n",
    "data"
   ]
  },
  {
   "cell_type": "code",
   "execution_count": 116,
   "metadata": {},
   "outputs": [],
   "source": [
    "# '–'로 잘못 표기된 NaN 값들을 NaN으로 바꿔주기\n",
    "for index, row in data.iterrows() :\n",
    "    if (type(row.fuel_type) == str) and (len(row.fuel_type) >= 2) :\n",
    "        continue\n",
    "        \n",
    "    else :  \n",
    "        data.loc[index, 'fuel_type'] = np.NaN"
   ]
  },
  {
   "cell_type": "code",
   "execution_count": 117,
   "metadata": {},
   "outputs": [
    {
     "data": {
      "text/plain": [
       "brand             0\n",
       "model             0\n",
       "model_year        0\n",
       "milage            0\n",
       "fuel_type        45\n",
       "engine            0\n",
       "transmission      0\n",
       "ext_col           0\n",
       "int_col           0\n",
       "accident        113\n",
       "clean_title     596\n",
       "price             0\n",
       "dtype: int64"
      ]
     },
     "execution_count": 117,
     "metadata": {},
     "output_type": "execute_result"
    }
   ],
   "source": [
    "data.isna().sum()"
   ]
  },
  {
   "cell_type": "code",
   "execution_count": 118,
   "metadata": {},
   "outputs": [],
   "source": [
    "# NaN 값들을 다시 한 번 bfill로 채워줌\n",
    "for index, row in data.iterrows() :\n",
    "    if (type(row.fuel_type) == str) and (len(row.fuel_type) >= 2) :\n",
    "        continue\n",
    "        \n",
    "    else :\n",
    "        try : \n",
    "            data.fuel_type.fillna(method = 'bfill', limit = 1, inplace = True)\n",
    "        except :\n",
    "            continue"
   ]
  },
  {
   "cell_type": "code",
   "execution_count": 119,
   "metadata": {},
   "outputs": [
    {
     "data": {
      "text/html": [
       "<div>\n",
       "<style scoped>\n",
       "    .dataframe tbody tr th:only-of-type {\n",
       "        vertical-align: middle;\n",
       "    }\n",
       "\n",
       "    .dataframe tbody tr th {\n",
       "        vertical-align: top;\n",
       "    }\n",
       "\n",
       "    .dataframe thead th {\n",
       "        text-align: right;\n",
       "    }\n",
       "</style>\n",
       "<table border=\"1\" class=\"dataframe\">\n",
       "  <thead>\n",
       "    <tr style=\"text-align: right;\">\n",
       "      <th></th>\n",
       "      <th>brand</th>\n",
       "      <th>model</th>\n",
       "      <th>model_year</th>\n",
       "      <th>milage</th>\n",
       "      <th>fuel_type</th>\n",
       "      <th>engine</th>\n",
       "      <th>transmission</th>\n",
       "      <th>ext_col</th>\n",
       "      <th>int_col</th>\n",
       "      <th>accident</th>\n",
       "      <th>clean_title</th>\n",
       "      <th>price</th>\n",
       "    </tr>\n",
       "  </thead>\n",
       "  <tbody>\n",
       "    <tr>\n",
       "      <th>3292</th>\n",
       "      <td>Mercedes-Benz</td>\n",
       "      <td>Sprinter 2500 Standard Roof</td>\n",
       "      <td>2021</td>\n",
       "      <td>13,344 mi.</td>\n",
       "      <td>Diesel</td>\n",
       "      <td>188.0HP 3.0L V6 Cylinder Engine Diesel Fuel</td>\n",
       "      <td>7-Speed A/T</td>\n",
       "      <td>Red</td>\n",
       "      <td>Black</td>\n",
       "      <td>None reported</td>\n",
       "      <td>Yes</td>\n",
       "      <td>$56,500</td>\n",
       "    </tr>\n",
       "    <tr>\n",
       "      <th>3550</th>\n",
       "      <td>Ford</td>\n",
       "      <td>F-350 King Ranch</td>\n",
       "      <td>2015</td>\n",
       "      <td>92,421 mi.</td>\n",
       "      <td>Diesel</td>\n",
       "      <td>440.0HP 6.7L 8 Cylinder Engine Diesel Fuel</td>\n",
       "      <td>6-Speed A/T</td>\n",
       "      <td>White</td>\n",
       "      <td>Brown</td>\n",
       "      <td>None reported</td>\n",
       "      <td>Yes</td>\n",
       "      <td>$51,900</td>\n",
       "    </tr>\n",
       "    <tr>\n",
       "      <th>3708</th>\n",
       "      <td>Ford</td>\n",
       "      <td>F-350 Lariat</td>\n",
       "      <td>2018</td>\n",
       "      <td>66,281 mi.</td>\n",
       "      <td>Diesel</td>\n",
       "      <td>450.0HP 6.7L 8 Cylinder Engine Diesel Fuel</td>\n",
       "      <td>Transmission w/Dual Shift Mode</td>\n",
       "      <td>Gray</td>\n",
       "      <td>Black</td>\n",
       "      <td>None reported</td>\n",
       "      <td>Yes</td>\n",
       "      <td>$63,500</td>\n",
       "    </tr>\n",
       "    <tr>\n",
       "      <th>3261</th>\n",
       "      <td>Ford</td>\n",
       "      <td>F-350 Lariat</td>\n",
       "      <td>2015</td>\n",
       "      <td>162,000 mi.</td>\n",
       "      <td>Diesel</td>\n",
       "      <td>440.0HP 6.7L 8 Cylinder Engine Diesel Fuel</td>\n",
       "      <td>Transmission w/Dual Shift Mode</td>\n",
       "      <td>Red</td>\n",
       "      <td>Beige</td>\n",
       "      <td>None reported</td>\n",
       "      <td>Yes</td>\n",
       "      <td>$32,000</td>\n",
       "    </tr>\n",
       "    <tr>\n",
       "      <th>2170</th>\n",
       "      <td>Ford</td>\n",
       "      <td>F-350 Lariat</td>\n",
       "      <td>2021</td>\n",
       "      <td>28,220 mi.</td>\n",
       "      <td>Diesel</td>\n",
       "      <td>475.0HP 6.7L 8 Cylinder Engine Diesel Fuel</td>\n",
       "      <td>10-Speed A/T</td>\n",
       "      <td>Silver</td>\n",
       "      <td>Black</td>\n",
       "      <td>None reported</td>\n",
       "      <td>Yes</td>\n",
       "      <td>$73,600</td>\n",
       "    </tr>\n",
       "    <tr>\n",
       "      <th>...</th>\n",
       "      <td>...</td>\n",
       "      <td>...</td>\n",
       "      <td>...</td>\n",
       "      <td>...</td>\n",
       "      <td>...</td>\n",
       "      <td>...</td>\n",
       "      <td>...</td>\n",
       "      <td>...</td>\n",
       "      <td>...</td>\n",
       "      <td>...</td>\n",
       "      <td>...</td>\n",
       "      <td>...</td>\n",
       "    </tr>\n",
       "    <tr>\n",
       "      <th>3825</th>\n",
       "      <td>Toyota</td>\n",
       "      <td>Prius Plug-in Base</td>\n",
       "      <td>2014</td>\n",
       "      <td>106,000 mi.</td>\n",
       "      <td>Plug-In Hybrid</td>\n",
       "      <td>134.0HP 1.8L 4 Cylinder Engine Plug-In Electri...</td>\n",
       "      <td>A/T</td>\n",
       "      <td>Green</td>\n",
       "      <td>Beige</td>\n",
       "      <td>At least 1 accident or damage reported</td>\n",
       "      <td>Yes</td>\n",
       "      <td>$11,800</td>\n",
       "    </tr>\n",
       "    <tr>\n",
       "      <th>1820</th>\n",
       "      <td>Volvo</td>\n",
       "      <td>XC90 Recharge Plug-In Hybrid T8 Inscription 7 ...</td>\n",
       "      <td>2022</td>\n",
       "      <td>7,800 mi.</td>\n",
       "      <td>Plug-In Hybrid</td>\n",
       "      <td>455.0HP 2.0L 4 Cylinder Engine Plug-In Electri...</td>\n",
       "      <td>8-Speed A/T</td>\n",
       "      <td>Black</td>\n",
       "      <td>Beige</td>\n",
       "      <td>None reported</td>\n",
       "      <td>Yes</td>\n",
       "      <td>$66,000</td>\n",
       "    </tr>\n",
       "    <tr>\n",
       "      <th>1509</th>\n",
       "      <td>Hyundai</td>\n",
       "      <td>IONIQ 5 SE</td>\n",
       "      <td>2022</td>\n",
       "      <td>18,500 mi.</td>\n",
       "      <td>Plug-In Hybrid</td>\n",
       "      <td>320.0HP Electric Motor Electric Fuel System</td>\n",
       "      <td>A/T</td>\n",
       "      <td>White</td>\n",
       "      <td>Black</td>\n",
       "      <td>None reported</td>\n",
       "      <td>Yes</td>\n",
       "      <td>$42,000</td>\n",
       "    </tr>\n",
       "    <tr>\n",
       "      <th>3700</th>\n",
       "      <td>Toyota</td>\n",
       "      <td>Mirai Base</td>\n",
       "      <td>2016</td>\n",
       "      <td>40,000 mi.</td>\n",
       "      <td>not supported</td>\n",
       "      <td>151.0HP Electric Motor Hydrogen Fuel</td>\n",
       "      <td>A/T</td>\n",
       "      <td>Silver</td>\n",
       "      <td>Black</td>\n",
       "      <td>None reported</td>\n",
       "      <td>Yes</td>\n",
       "      <td>$9,500</td>\n",
       "    </tr>\n",
       "    <tr>\n",
       "      <th>2894</th>\n",
       "      <td>Toyota</td>\n",
       "      <td>Mirai Limited</td>\n",
       "      <td>2021</td>\n",
       "      <td>44,000 mi.</td>\n",
       "      <td>not supported</td>\n",
       "      <td>182.0HP Electric Motor Hydrogen Fuel</td>\n",
       "      <td>A/T</td>\n",
       "      <td>Gray</td>\n",
       "      <td>Black</td>\n",
       "      <td>None reported</td>\n",
       "      <td>Yes</td>\n",
       "      <td>$18,500</td>\n",
       "    </tr>\n",
       "  </tbody>\n",
       "</table>\n",
       "<p>4009 rows × 12 columns</p>\n",
       "</div>"
      ],
      "text/plain": [
       "              brand                                              model  \\\n",
       "3292  Mercedes-Benz                        Sprinter 2500 Standard Roof   \n",
       "3550           Ford                                   F-350 King Ranch   \n",
       "3708           Ford                                       F-350 Lariat   \n",
       "3261           Ford                                       F-350 Lariat   \n",
       "2170           Ford                                       F-350 Lariat   \n",
       "...             ...                                                ...   \n",
       "3825         Toyota                                 Prius Plug-in Base   \n",
       "1820          Volvo  XC90 Recharge Plug-In Hybrid T8 Inscription 7 ...   \n",
       "1509        Hyundai                                         IONIQ 5 SE   \n",
       "3700         Toyota                                         Mirai Base   \n",
       "2894         Toyota                                      Mirai Limited   \n",
       "\n",
       "      model_year       milage       fuel_type  \\\n",
       "3292        2021   13,344 mi.          Diesel   \n",
       "3550        2015   92,421 mi.          Diesel   \n",
       "3708        2018   66,281 mi.          Diesel   \n",
       "3261        2015  162,000 mi.          Diesel   \n",
       "2170        2021   28,220 mi.          Diesel   \n",
       "...          ...          ...             ...   \n",
       "3825        2014  106,000 mi.  Plug-In Hybrid   \n",
       "1820        2022    7,800 mi.  Plug-In Hybrid   \n",
       "1509        2022   18,500 mi.  Plug-In Hybrid   \n",
       "3700        2016   40,000 mi.   not supported   \n",
       "2894        2021   44,000 mi.   not supported   \n",
       "\n",
       "                                                 engine  \\\n",
       "3292        188.0HP 3.0L V6 Cylinder Engine Diesel Fuel   \n",
       "3550         440.0HP 6.7L 8 Cylinder Engine Diesel Fuel   \n",
       "3708         450.0HP 6.7L 8 Cylinder Engine Diesel Fuel   \n",
       "3261         440.0HP 6.7L 8 Cylinder Engine Diesel Fuel   \n",
       "2170         475.0HP 6.7L 8 Cylinder Engine Diesel Fuel   \n",
       "...                                                 ...   \n",
       "3825  134.0HP 1.8L 4 Cylinder Engine Plug-In Electri...   \n",
       "1820  455.0HP 2.0L 4 Cylinder Engine Plug-In Electri...   \n",
       "1509        320.0HP Electric Motor Electric Fuel System   \n",
       "3700               151.0HP Electric Motor Hydrogen Fuel   \n",
       "2894               182.0HP Electric Motor Hydrogen Fuel   \n",
       "\n",
       "                        transmission ext_col int_col  \\\n",
       "3292                     7-Speed A/T     Red   Black   \n",
       "3550                     6-Speed A/T   White   Brown   \n",
       "3708  Transmission w/Dual Shift Mode    Gray   Black   \n",
       "3261  Transmission w/Dual Shift Mode     Red   Beige   \n",
       "2170                    10-Speed A/T  Silver   Black   \n",
       "...                              ...     ...     ...   \n",
       "3825                             A/T   Green   Beige   \n",
       "1820                     8-Speed A/T   Black   Beige   \n",
       "1509                             A/T   White   Black   \n",
       "3700                             A/T  Silver   Black   \n",
       "2894                             A/T    Gray   Black   \n",
       "\n",
       "                                    accident clean_title    price  \n",
       "3292                           None reported         Yes  $56,500  \n",
       "3550                           None reported         Yes  $51,900  \n",
       "3708                           None reported         Yes  $63,500  \n",
       "3261                           None reported         Yes  $32,000  \n",
       "2170                           None reported         Yes  $73,600  \n",
       "...                                      ...         ...      ...  \n",
       "3825  At least 1 accident or damage reported         Yes  $11,800  \n",
       "1820                           None reported         Yes  $66,000  \n",
       "1509                           None reported         Yes  $42,000  \n",
       "3700                           None reported         Yes   $9,500  \n",
       "2894                           None reported         Yes  $18,500  \n",
       "\n",
       "[4009 rows x 12 columns]"
      ]
     },
     "execution_count": 119,
     "metadata": {},
     "output_type": "execute_result"
    }
   ],
   "source": [
    "data = data.sort_values('fuel_type')\n",
    "data"
   ]
  },
  {
   "cell_type": "code",
   "execution_count": 120,
   "metadata": {},
   "outputs": [
    {
     "data": {
      "text/plain": [
       "array(['Diesel', 'E85 Flex Fuel', 'Gasoline', 'Hybrid', 'Plug-In Hybrid',\n",
       "       'not supported'], dtype=object)"
      ]
     },
     "execution_count": 120,
     "metadata": {},
     "output_type": "execute_result"
    }
   ],
   "source": [
    "data['fuel_type'].unique()"
   ]
  },
  {
   "cell_type": "markdown",
   "metadata": {},
   "source": [
    "----------"
   ]
  },
  {
   "cell_type": "markdown",
   "metadata": {},
   "source": [
    "**accident 결측치 처리**"
   ]
  },
  {
   "cell_type": "markdown",
   "metadata": {},
   "source": [
    "결측치인 행 제외"
   ]
  },
  {
   "cell_type": "code",
   "execution_count": 121,
   "metadata": {},
   "outputs": [
    {
     "data": {
      "text/plain": [
       "array(['None reported', 'At least 1 accident or damage reported', nan],\n",
       "      dtype=object)"
      ]
     },
     "execution_count": 121,
     "metadata": {},
     "output_type": "execute_result"
    }
   ],
   "source": [
    "# 값 확인\n",
    "data['accident'].unique()"
   ]
  },
  {
   "cell_type": "code",
   "execution_count": 122,
   "metadata": {},
   "outputs": [
    {
     "data": {
      "text/html": [
       "<div>\n",
       "<style scoped>\n",
       "    .dataframe tbody tr th:only-of-type {\n",
       "        vertical-align: middle;\n",
       "    }\n",
       "\n",
       "    .dataframe tbody tr th {\n",
       "        vertical-align: top;\n",
       "    }\n",
       "\n",
       "    .dataframe thead th {\n",
       "        text-align: right;\n",
       "    }\n",
       "</style>\n",
       "<table border=\"1\" class=\"dataframe\">\n",
       "  <thead>\n",
       "    <tr style=\"text-align: right;\">\n",
       "      <th></th>\n",
       "      <th>brand</th>\n",
       "      <th>model</th>\n",
       "      <th>model_year</th>\n",
       "      <th>milage</th>\n",
       "      <th>fuel_type</th>\n",
       "      <th>engine</th>\n",
       "      <th>transmission</th>\n",
       "      <th>ext_col</th>\n",
       "      <th>int_col</th>\n",
       "      <th>accident</th>\n",
       "      <th>clean_title</th>\n",
       "      <th>price</th>\n",
       "    </tr>\n",
       "  </thead>\n",
       "  <tbody>\n",
       "    <tr>\n",
       "      <th>3292</th>\n",
       "      <td>Mercedes-Benz</td>\n",
       "      <td>Sprinter 2500 Standard Roof</td>\n",
       "      <td>2021</td>\n",
       "      <td>13,344 mi.</td>\n",
       "      <td>Diesel</td>\n",
       "      <td>188.0HP 3.0L V6 Cylinder Engine Diesel Fuel</td>\n",
       "      <td>7-Speed A/T</td>\n",
       "      <td>Red</td>\n",
       "      <td>Black</td>\n",
       "      <td>0.0</td>\n",
       "      <td>Yes</td>\n",
       "      <td>$56,500</td>\n",
       "    </tr>\n",
       "    <tr>\n",
       "      <th>3550</th>\n",
       "      <td>Ford</td>\n",
       "      <td>F-350 King Ranch</td>\n",
       "      <td>2015</td>\n",
       "      <td>92,421 mi.</td>\n",
       "      <td>Diesel</td>\n",
       "      <td>440.0HP 6.7L 8 Cylinder Engine Diesel Fuel</td>\n",
       "      <td>6-Speed A/T</td>\n",
       "      <td>White</td>\n",
       "      <td>Brown</td>\n",
       "      <td>0.0</td>\n",
       "      <td>Yes</td>\n",
       "      <td>$51,900</td>\n",
       "    </tr>\n",
       "    <tr>\n",
       "      <th>3708</th>\n",
       "      <td>Ford</td>\n",
       "      <td>F-350 Lariat</td>\n",
       "      <td>2018</td>\n",
       "      <td>66,281 mi.</td>\n",
       "      <td>Diesel</td>\n",
       "      <td>450.0HP 6.7L 8 Cylinder Engine Diesel Fuel</td>\n",
       "      <td>Transmission w/Dual Shift Mode</td>\n",
       "      <td>Gray</td>\n",
       "      <td>Black</td>\n",
       "      <td>0.0</td>\n",
       "      <td>Yes</td>\n",
       "      <td>$63,500</td>\n",
       "    </tr>\n",
       "    <tr>\n",
       "      <th>3261</th>\n",
       "      <td>Ford</td>\n",
       "      <td>F-350 Lariat</td>\n",
       "      <td>2015</td>\n",
       "      <td>162,000 mi.</td>\n",
       "      <td>Diesel</td>\n",
       "      <td>440.0HP 6.7L 8 Cylinder Engine Diesel Fuel</td>\n",
       "      <td>Transmission w/Dual Shift Mode</td>\n",
       "      <td>Red</td>\n",
       "      <td>Beige</td>\n",
       "      <td>0.0</td>\n",
       "      <td>Yes</td>\n",
       "      <td>$32,000</td>\n",
       "    </tr>\n",
       "    <tr>\n",
       "      <th>2170</th>\n",
       "      <td>Ford</td>\n",
       "      <td>F-350 Lariat</td>\n",
       "      <td>2021</td>\n",
       "      <td>28,220 mi.</td>\n",
       "      <td>Diesel</td>\n",
       "      <td>475.0HP 6.7L 8 Cylinder Engine Diesel Fuel</td>\n",
       "      <td>10-Speed A/T</td>\n",
       "      <td>Silver</td>\n",
       "      <td>Black</td>\n",
       "      <td>0.0</td>\n",
       "      <td>Yes</td>\n",
       "      <td>$73,600</td>\n",
       "    </tr>\n",
       "    <tr>\n",
       "      <th>...</th>\n",
       "      <td>...</td>\n",
       "      <td>...</td>\n",
       "      <td>...</td>\n",
       "      <td>...</td>\n",
       "      <td>...</td>\n",
       "      <td>...</td>\n",
       "      <td>...</td>\n",
       "      <td>...</td>\n",
       "      <td>...</td>\n",
       "      <td>...</td>\n",
       "      <td>...</td>\n",
       "      <td>...</td>\n",
       "    </tr>\n",
       "    <tr>\n",
       "      <th>3825</th>\n",
       "      <td>Toyota</td>\n",
       "      <td>Prius Plug-in Base</td>\n",
       "      <td>2014</td>\n",
       "      <td>106,000 mi.</td>\n",
       "      <td>Plug-In Hybrid</td>\n",
       "      <td>134.0HP 1.8L 4 Cylinder Engine Plug-In Electri...</td>\n",
       "      <td>A/T</td>\n",
       "      <td>Green</td>\n",
       "      <td>Beige</td>\n",
       "      <td>1.0</td>\n",
       "      <td>Yes</td>\n",
       "      <td>$11,800</td>\n",
       "    </tr>\n",
       "    <tr>\n",
       "      <th>1820</th>\n",
       "      <td>Volvo</td>\n",
       "      <td>XC90 Recharge Plug-In Hybrid T8 Inscription 7 ...</td>\n",
       "      <td>2022</td>\n",
       "      <td>7,800 mi.</td>\n",
       "      <td>Plug-In Hybrid</td>\n",
       "      <td>455.0HP 2.0L 4 Cylinder Engine Plug-In Electri...</td>\n",
       "      <td>8-Speed A/T</td>\n",
       "      <td>Black</td>\n",
       "      <td>Beige</td>\n",
       "      <td>0.0</td>\n",
       "      <td>Yes</td>\n",
       "      <td>$66,000</td>\n",
       "    </tr>\n",
       "    <tr>\n",
       "      <th>1509</th>\n",
       "      <td>Hyundai</td>\n",
       "      <td>IONIQ 5 SE</td>\n",
       "      <td>2022</td>\n",
       "      <td>18,500 mi.</td>\n",
       "      <td>Plug-In Hybrid</td>\n",
       "      <td>320.0HP Electric Motor Electric Fuel System</td>\n",
       "      <td>A/T</td>\n",
       "      <td>White</td>\n",
       "      <td>Black</td>\n",
       "      <td>0.0</td>\n",
       "      <td>Yes</td>\n",
       "      <td>$42,000</td>\n",
       "    </tr>\n",
       "    <tr>\n",
       "      <th>3700</th>\n",
       "      <td>Toyota</td>\n",
       "      <td>Mirai Base</td>\n",
       "      <td>2016</td>\n",
       "      <td>40,000 mi.</td>\n",
       "      <td>not supported</td>\n",
       "      <td>151.0HP Electric Motor Hydrogen Fuel</td>\n",
       "      <td>A/T</td>\n",
       "      <td>Silver</td>\n",
       "      <td>Black</td>\n",
       "      <td>0.0</td>\n",
       "      <td>Yes</td>\n",
       "      <td>$9,500</td>\n",
       "    </tr>\n",
       "    <tr>\n",
       "      <th>2894</th>\n",
       "      <td>Toyota</td>\n",
       "      <td>Mirai Limited</td>\n",
       "      <td>2021</td>\n",
       "      <td>44,000 mi.</td>\n",
       "      <td>not supported</td>\n",
       "      <td>182.0HP Electric Motor Hydrogen Fuel</td>\n",
       "      <td>A/T</td>\n",
       "      <td>Gray</td>\n",
       "      <td>Black</td>\n",
       "      <td>0.0</td>\n",
       "      <td>Yes</td>\n",
       "      <td>$18,500</td>\n",
       "    </tr>\n",
       "  </tbody>\n",
       "</table>\n",
       "<p>4009 rows × 12 columns</p>\n",
       "</div>"
      ],
      "text/plain": [
       "              brand                                              model  \\\n",
       "3292  Mercedes-Benz                        Sprinter 2500 Standard Roof   \n",
       "3550           Ford                                   F-350 King Ranch   \n",
       "3708           Ford                                       F-350 Lariat   \n",
       "3261           Ford                                       F-350 Lariat   \n",
       "2170           Ford                                       F-350 Lariat   \n",
       "...             ...                                                ...   \n",
       "3825         Toyota                                 Prius Plug-in Base   \n",
       "1820          Volvo  XC90 Recharge Plug-In Hybrid T8 Inscription 7 ...   \n",
       "1509        Hyundai                                         IONIQ 5 SE   \n",
       "3700         Toyota                                         Mirai Base   \n",
       "2894         Toyota                                      Mirai Limited   \n",
       "\n",
       "      model_year       milage       fuel_type  \\\n",
       "3292        2021   13,344 mi.          Diesel   \n",
       "3550        2015   92,421 mi.          Diesel   \n",
       "3708        2018   66,281 mi.          Diesel   \n",
       "3261        2015  162,000 mi.          Diesel   \n",
       "2170        2021   28,220 mi.          Diesel   \n",
       "...          ...          ...             ...   \n",
       "3825        2014  106,000 mi.  Plug-In Hybrid   \n",
       "1820        2022    7,800 mi.  Plug-In Hybrid   \n",
       "1509        2022   18,500 mi.  Plug-In Hybrid   \n",
       "3700        2016   40,000 mi.   not supported   \n",
       "2894        2021   44,000 mi.   not supported   \n",
       "\n",
       "                                                 engine  \\\n",
       "3292        188.0HP 3.0L V6 Cylinder Engine Diesel Fuel   \n",
       "3550         440.0HP 6.7L 8 Cylinder Engine Diesel Fuel   \n",
       "3708         450.0HP 6.7L 8 Cylinder Engine Diesel Fuel   \n",
       "3261         440.0HP 6.7L 8 Cylinder Engine Diesel Fuel   \n",
       "2170         475.0HP 6.7L 8 Cylinder Engine Diesel Fuel   \n",
       "...                                                 ...   \n",
       "3825  134.0HP 1.8L 4 Cylinder Engine Plug-In Electri...   \n",
       "1820  455.0HP 2.0L 4 Cylinder Engine Plug-In Electri...   \n",
       "1509        320.0HP Electric Motor Electric Fuel System   \n",
       "3700               151.0HP Electric Motor Hydrogen Fuel   \n",
       "2894               182.0HP Electric Motor Hydrogen Fuel   \n",
       "\n",
       "                        transmission ext_col int_col  accident clean_title  \\\n",
       "3292                     7-Speed A/T     Red   Black       0.0         Yes   \n",
       "3550                     6-Speed A/T   White   Brown       0.0         Yes   \n",
       "3708  Transmission w/Dual Shift Mode    Gray   Black       0.0         Yes   \n",
       "3261  Transmission w/Dual Shift Mode     Red   Beige       0.0         Yes   \n",
       "2170                    10-Speed A/T  Silver   Black       0.0         Yes   \n",
       "...                              ...     ...     ...       ...         ...   \n",
       "3825                             A/T   Green   Beige       1.0         Yes   \n",
       "1820                     8-Speed A/T   Black   Beige       0.0         Yes   \n",
       "1509                             A/T   White   Black       0.0         Yes   \n",
       "3700                             A/T  Silver   Black       0.0         Yes   \n",
       "2894                             A/T    Gray   Black       0.0         Yes   \n",
       "\n",
       "        price  \n",
       "3292  $56,500  \n",
       "3550  $51,900  \n",
       "3708  $63,500  \n",
       "3261  $32,000  \n",
       "2170  $73,600  \n",
       "...       ...  \n",
       "3825  $11,800  \n",
       "1820  $66,000  \n",
       "1509  $42,000  \n",
       "3700   $9,500  \n",
       "2894  $18,500  \n",
       "\n",
       "[4009 rows x 12 columns]"
      ]
     },
     "execution_count": 122,
     "metadata": {},
     "output_type": "execute_result"
    }
   ],
   "source": [
    "# accident 값을 숫자로 바꿔주기 (가변수화)\n",
    "data = data.replace({'accident': 'None reported'}, 0)\n",
    "data = data.replace({'accident': 'At least 1 accident or damage reported'}, 1)\n",
    "data"
   ]
  },
  {
   "cell_type": "code",
   "execution_count": 123,
   "metadata": {},
   "outputs": [
    {
     "data": {
      "text/plain": [
       "0.0    2910\n",
       "1.0     986\n",
       "Name: accident, dtype: int64"
      ]
     },
     "execution_count": 123,
     "metadata": {},
     "output_type": "execute_result"
    }
   ],
   "source": [
    "data['accident'].value_counts()"
   ]
  },
  {
   "cell_type": "code",
   "execution_count": 124,
   "metadata": {},
   "outputs": [
    {
     "name": "stdout",
     "output_type": "stream",
     "text": [
      "<class 'pandas.core.frame.DataFrame'>\n",
      "Int64Index: 3896 entries, 3292 to 2894\n",
      "Data columns (total 12 columns):\n",
      " #   Column        Non-Null Count  Dtype  \n",
      "---  ------        --------------  -----  \n",
      " 0   brand         3896 non-null   object \n",
      " 1   model         3896 non-null   object \n",
      " 2   model_year    3896 non-null   int64  \n",
      " 3   milage        3896 non-null   object \n",
      " 4   fuel_type     3896 non-null   object \n",
      " 5   engine        3896 non-null   object \n",
      " 6   transmission  3896 non-null   object \n",
      " 7   ext_col       3896 non-null   object \n",
      " 8   int_col       3896 non-null   object \n",
      " 9   accident      3896 non-null   float64\n",
      " 10  clean_title   3413 non-null   object \n",
      " 11  price         3896 non-null   object \n",
      "dtypes: float64(1), int64(1), object(10)\n",
      "memory usage: 395.7+ KB\n"
     ]
    }
   ],
   "source": [
    "# accident가 결측치인 경우는 제외하기로 함\n",
    "data = data.loc[data['accident'].notnull()]\n",
    "data.info()"
   ]
  },
  {
   "cell_type": "markdown",
   "metadata": {},
   "source": [
    "-------"
   ]
  },
  {
   "cell_type": "markdown",
   "metadata": {},
   "source": [
    "**clean_title 결측치 처리**"
   ]
  },
  {
   "cell_type": "markdown",
   "metadata": {},
   "source": [
    "결측치를 'No'로 변경"
   ]
  },
  {
   "cell_type": "code",
   "execution_count": 125,
   "metadata": {},
   "outputs": [
    {
     "data": {
      "text/plain": [
       "Yes    3413\n",
       "Name: clean_title, dtype: int64"
      ]
     },
     "execution_count": 125,
     "metadata": {},
     "output_type": "execute_result"
    }
   ],
   "source": [
    "data['clean_title'].value_counts()"
   ]
  },
  {
   "cell_type": "code",
   "execution_count": 126,
   "metadata": {},
   "outputs": [
    {
     "data": {
      "text/plain": [
       "array(['Yes', nan], dtype=object)"
      ]
     },
     "execution_count": 126,
     "metadata": {},
     "output_type": "execute_result"
    }
   ],
   "source": [
    "data['clean_title'].unique()"
   ]
  },
  {
   "cell_type": "code",
   "execution_count": 127,
   "metadata": {},
   "outputs": [
    {
     "name": "stderr",
     "output_type": "stream",
     "text": [
      "C:\\Users\\USER\\anaconda3\\lib\\site-packages\\pandas\\core\\series.py:4517: SettingWithCopyWarning: \n",
      "A value is trying to be set on a copy of a slice from a DataFrame\n",
      "\n",
      "See the caveats in the documentation: https://pandas.pydata.org/pandas-docs/stable/user_guide/indexing.html#returning-a-view-versus-a-copy\n",
      "  return super().fillna(\n"
     ]
    },
    {
     "data": {
      "text/plain": [
       "Yes    3413\n",
       "No      483\n",
       "Name: clean_title, dtype: int64"
      ]
     },
     "execution_count": 127,
     "metadata": {},
     "output_type": "execute_result"
    }
   ],
   "source": [
    "# 결측치를 No로 변경\n",
    "data.clean_title.fillna('No', inplace = True)\n",
    "data['clean_title'].value_counts()"
   ]
  },
  {
   "cell_type": "markdown",
   "metadata": {},
   "source": [
    "------"
   ]
  },
  {
   "cell_type": "markdown",
   "metadata": {},
   "source": [
    "### 가변수화"
   ]
  },
  {
   "cell_type": "code",
   "execution_count": 128,
   "metadata": {},
   "outputs": [
    {
     "data": {
      "text/html": [
       "<div>\n",
       "<style scoped>\n",
       "    .dataframe tbody tr th:only-of-type {\n",
       "        vertical-align: middle;\n",
       "    }\n",
       "\n",
       "    .dataframe tbody tr th {\n",
       "        vertical-align: top;\n",
       "    }\n",
       "\n",
       "    .dataframe thead th {\n",
       "        text-align: right;\n",
       "    }\n",
       "</style>\n",
       "<table border=\"1\" class=\"dataframe\">\n",
       "  <thead>\n",
       "    <tr style=\"text-align: right;\">\n",
       "      <th></th>\n",
       "      <th>brand</th>\n",
       "      <th>model</th>\n",
       "      <th>model_year</th>\n",
       "      <th>milage</th>\n",
       "      <th>fuel_type</th>\n",
       "      <th>engine</th>\n",
       "      <th>transmission</th>\n",
       "      <th>ext_col</th>\n",
       "      <th>int_col</th>\n",
       "      <th>accident</th>\n",
       "      <th>clean_title</th>\n",
       "      <th>price</th>\n",
       "    </tr>\n",
       "  </thead>\n",
       "  <tbody>\n",
       "    <tr>\n",
       "      <th>3292</th>\n",
       "      <td>Mercedes-Benz</td>\n",
       "      <td>Sprinter 2500 Standard Roof</td>\n",
       "      <td>2021</td>\n",
       "      <td>13,344 mi.</td>\n",
       "      <td>Diesel</td>\n",
       "      <td>188.0HP 3.0L V6 Cylinder Engine Diesel Fuel</td>\n",
       "      <td>7-Speed A/T</td>\n",
       "      <td>Red</td>\n",
       "      <td>Black</td>\n",
       "      <td>0.0</td>\n",
       "      <td>Yes</td>\n",
       "      <td>$56,500</td>\n",
       "    </tr>\n",
       "    <tr>\n",
       "      <th>3550</th>\n",
       "      <td>Ford</td>\n",
       "      <td>F-350 King Ranch</td>\n",
       "      <td>2015</td>\n",
       "      <td>92,421 mi.</td>\n",
       "      <td>Diesel</td>\n",
       "      <td>440.0HP 6.7L 8 Cylinder Engine Diesel Fuel</td>\n",
       "      <td>6-Speed A/T</td>\n",
       "      <td>White</td>\n",
       "      <td>Brown</td>\n",
       "      <td>0.0</td>\n",
       "      <td>Yes</td>\n",
       "      <td>$51,900</td>\n",
       "    </tr>\n",
       "    <tr>\n",
       "      <th>3708</th>\n",
       "      <td>Ford</td>\n",
       "      <td>F-350 Lariat</td>\n",
       "      <td>2018</td>\n",
       "      <td>66,281 mi.</td>\n",
       "      <td>Diesel</td>\n",
       "      <td>450.0HP 6.7L 8 Cylinder Engine Diesel Fuel</td>\n",
       "      <td>Transmission w/Dual Shift Mode</td>\n",
       "      <td>Gray</td>\n",
       "      <td>Black</td>\n",
       "      <td>0.0</td>\n",
       "      <td>Yes</td>\n",
       "      <td>$63,500</td>\n",
       "    </tr>\n",
       "    <tr>\n",
       "      <th>3261</th>\n",
       "      <td>Ford</td>\n",
       "      <td>F-350 Lariat</td>\n",
       "      <td>2015</td>\n",
       "      <td>162,000 mi.</td>\n",
       "      <td>Diesel</td>\n",
       "      <td>440.0HP 6.7L 8 Cylinder Engine Diesel Fuel</td>\n",
       "      <td>Transmission w/Dual Shift Mode</td>\n",
       "      <td>Red</td>\n",
       "      <td>Beige</td>\n",
       "      <td>0.0</td>\n",
       "      <td>Yes</td>\n",
       "      <td>$32,000</td>\n",
       "    </tr>\n",
       "    <tr>\n",
       "      <th>2170</th>\n",
       "      <td>Ford</td>\n",
       "      <td>F-350 Lariat</td>\n",
       "      <td>2021</td>\n",
       "      <td>28,220 mi.</td>\n",
       "      <td>Diesel</td>\n",
       "      <td>475.0HP 6.7L 8 Cylinder Engine Diesel Fuel</td>\n",
       "      <td>10-Speed A/T</td>\n",
       "      <td>Silver</td>\n",
       "      <td>Black</td>\n",
       "      <td>0.0</td>\n",
       "      <td>Yes</td>\n",
       "      <td>$73,600</td>\n",
       "    </tr>\n",
       "  </tbody>\n",
       "</table>\n",
       "</div>"
      ],
      "text/plain": [
       "              brand                        model  model_year       milage  \\\n",
       "3292  Mercedes-Benz  Sprinter 2500 Standard Roof        2021   13,344 mi.   \n",
       "3550           Ford             F-350 King Ranch        2015   92,421 mi.   \n",
       "3708           Ford                 F-350 Lariat        2018   66,281 mi.   \n",
       "3261           Ford                 F-350 Lariat        2015  162,000 mi.   \n",
       "2170           Ford                 F-350 Lariat        2021   28,220 mi.   \n",
       "\n",
       "     fuel_type                                       engine  \\\n",
       "3292    Diesel  188.0HP 3.0L V6 Cylinder Engine Diesel Fuel   \n",
       "3550    Diesel   440.0HP 6.7L 8 Cylinder Engine Diesel Fuel   \n",
       "3708    Diesel   450.0HP 6.7L 8 Cylinder Engine Diesel Fuel   \n",
       "3261    Diesel   440.0HP 6.7L 8 Cylinder Engine Diesel Fuel   \n",
       "2170    Diesel   475.0HP 6.7L 8 Cylinder Engine Diesel Fuel   \n",
       "\n",
       "                        transmission ext_col int_col  accident clean_title  \\\n",
       "3292                     7-Speed A/T     Red   Black       0.0         Yes   \n",
       "3550                     6-Speed A/T   White   Brown       0.0         Yes   \n",
       "3708  Transmission w/Dual Shift Mode    Gray   Black       0.0         Yes   \n",
       "3261  Transmission w/Dual Shift Mode     Red   Beige       0.0         Yes   \n",
       "2170                    10-Speed A/T  Silver   Black       0.0         Yes   \n",
       "\n",
       "        price  \n",
       "3292  $56,500  \n",
       "3550  $51,900  \n",
       "3708  $63,500  \n",
       "3261  $32,000  \n",
       "2170  $73,600  "
      ]
     },
     "execution_count": 128,
     "metadata": {},
     "output_type": "execute_result"
    }
   ],
   "source": [
    "data.head()"
   ]
  },
  {
   "cell_type": "markdown",
   "metadata": {},
   "source": [
    "**price 가변수화**"
   ]
  },
  {
   "cell_type": "code",
   "execution_count": 129,
   "metadata": {},
   "outputs": [
    {
     "name": "stderr",
     "output_type": "stream",
     "text": [
      "C:\\Users\\USER\\anaconda3\\lib\\site-packages\\pandas\\core\\indexing.py:1765: SettingWithCopyWarning: \n",
      "A value is trying to be set on a copy of a slice from a DataFrame.\n",
      "Try using .loc[row_indexer,col_indexer] = value instead\n",
      "\n",
      "See the caveats in the documentation: https://pandas.pydata.org/pandas-docs/stable/user_guide/indexing.html#returning-a-view-versus-a-copy\n",
      "  isetter(loc, value)\n"
     ]
    }
   ],
   "source": [
    "# $ 지우기\n",
    "for index, row in data.iterrows():\n",
    "    data.loc[index, 'price'] = data.loc[index, 'price'].strip(\"$\")"
   ]
  },
  {
   "cell_type": "code",
   "execution_count": 130,
   "metadata": {},
   "outputs": [],
   "source": [
    "# , 지우기\n",
    "for index, row in data.iterrows():\n",
    "    data.loc[index, 'price'] = data.loc[index, 'price'].replace(',', '')"
   ]
  },
  {
   "cell_type": "code",
   "execution_count": 131,
   "metadata": {},
   "outputs": [
    {
     "name": "stderr",
     "output_type": "stream",
     "text": [
      "<ipython-input-131-df78d7087208>:2: SettingWithCopyWarning: \n",
      "A value is trying to be set on a copy of a slice from a DataFrame.\n",
      "Try using .loc[row_indexer,col_indexer] = value instead\n",
      "\n",
      "See the caveats in the documentation: https://pandas.pydata.org/pandas-docs/stable/user_guide/indexing.html#returning-a-view-versus-a-copy\n",
      "  data['price'] = data['price'].astype('int64')\n"
     ]
    }
   ],
   "source": [
    "# str -> int 로 단위 바꾸기\n",
    "data['price'] = data['price'].astype('int64')\n",
    "# data.head()"
   ]
  },
  {
   "cell_type": "code",
   "execution_count": 132,
   "metadata": {},
   "outputs": [
    {
     "name": "stdout",
     "output_type": "stream",
     "text": [
      "<class 'pandas.core.frame.DataFrame'>\n",
      "Int64Index: 3896 entries, 3292 to 2894\n",
      "Data columns (total 12 columns):\n",
      " #   Column        Non-Null Count  Dtype  \n",
      "---  ------        --------------  -----  \n",
      " 0   brand         3896 non-null   object \n",
      " 1   model         3896 non-null   object \n",
      " 2   model_year    3896 non-null   int64  \n",
      " 3   milage        3896 non-null   object \n",
      " 4   fuel_type     3896 non-null   object \n",
      " 5   engine        3896 non-null   object \n",
      " 6   transmission  3896 non-null   object \n",
      " 7   ext_col       3896 non-null   object \n",
      " 8   int_col       3896 non-null   object \n",
      " 9   accident      3896 non-null   float64\n",
      " 10  clean_title   3896 non-null   object \n",
      " 11  price         3896 non-null   int64  \n",
      "dtypes: float64(1), int64(2), object(9)\n",
      "memory usage: 555.7+ KB\n"
     ]
    }
   ],
   "source": [
    "data.info()"
   ]
  },
  {
   "cell_type": "markdown",
   "metadata": {},
   "source": [
    "**brand 가변수화**"
   ]
  },
  {
   "cell_type": "code",
   "execution_count": 133,
   "metadata": {
    "scrolled": true
   },
   "outputs": [
    {
     "data": {
      "text/plain": [
       "Ford             372\n",
       "BMW              367\n",
       "Mercedes-Benz    310\n",
       "Chevrolet        285\n",
       "Toyota           196\n",
       "Audi             194\n",
       "Porsche          186\n",
       "Lexus            161\n",
       "Jeep             138\n",
       "Land             126\n",
       "Nissan           114\n",
       "Cadillac         104\n",
       "RAM               90\n",
       "Dodge             89\n",
       "GMC               88\n",
       "Tesla             87\n",
       "Kia               75\n",
       "Hyundai           68\n",
       "Acura             63\n",
       "Subaru            63\n",
       "Mazda             62\n",
       "Honda             60\n",
       "Volkswagen        59\n",
       "INFINITI          56\n",
       "Lincoln           50\n",
       "Jaguar            46\n",
       "Volvo             37\n",
       "Maserati          33\n",
       "MINI              32\n",
       "Bentley           31\n",
       "Buick             30\n",
       "Chrysler          27\n",
       "Lamborghini       26\n",
       "Mitsubishi        20\n",
       "Genesis           19\n",
       "Hummer            16\n",
       "Alfa              16\n",
       "Pontiac           15\n",
       "Rivian            15\n",
       "Ferrari           12\n",
       "Rolls-Royce       10\n",
       "Aston              8\n",
       "Scion              6\n",
       "McLaren            6\n",
       "Saturn             5\n",
       "FIAT               5\n",
       "Mercury            3\n",
       "Lotus              3\n",
       "Saab               2\n",
       "Karma              2\n",
       "Lucid              2\n",
       "Maybach            1\n",
       "Polestar           1\n",
       "smart              1\n",
       "Plymouth           1\n",
       "Suzuki             1\n",
       "Bugatti            1\n",
       "Name: brand, dtype: int64"
      ]
     },
     "execution_count": 133,
     "metadata": {},
     "output_type": "execute_result"
    }
   ],
   "source": [
    "data['brand'].value_counts()"
   ]
  },
  {
   "cell_type": "code",
   "execution_count": 134,
   "metadata": {},
   "outputs": [],
   "source": [
    "data = data.sort_values('brand')\n",
    "\n",
    "data.reset_index(drop = True, inplace = True)\n",
    "# data.head()"
   ]
  },
  {
   "cell_type": "code",
   "execution_count": 135,
   "metadata": {},
   "outputs": [
    {
     "data": {
      "text/plain": [
       "3896"
      ]
     },
     "execution_count": 135,
     "metadata": {},
     "output_type": "execute_result"
    }
   ],
   "source": [
    "len(data)"
   ]
  },
  {
   "cell_type": "code",
   "execution_count": 136,
   "metadata": {},
   "outputs": [
    {
     "data": {
      "text/plain": [
       "Ford             372\n",
       "BMW              367\n",
       "Mercedes-Benz    310\n",
       "Chevrolet        285\n",
       "Toyota           196\n",
       "Audi             194\n",
       "Porsche          186\n",
       "Lexus            161\n",
       "Jeep             138\n",
       "Land             126\n",
       "Nissan           114\n",
       "Cadillac         104\n",
       "RAM               90\n",
       "Dodge             89\n",
       "GMC               88\n",
       "Tesla             87\n",
       "Kia               75\n",
       "Hyundai           68\n",
       "Acura             63\n",
       "Subaru            63\n",
       "Mazda             62\n",
       "Honda             60\n",
       "Volkswagen        59\n",
       "INFINITI          56\n",
       "Lincoln           50\n",
       "Jaguar            46\n",
       "Volvo             37\n",
       "Maserati          33\n",
       "MINI              32\n",
       "Bentley           31\n",
       "Buick             30\n",
       "Chrysler          27\n",
       "Lamborghini       26\n",
       "Mitsubishi        20\n",
       "Genesis           19\n",
       "Hummer            16\n",
       "Alfa              16\n",
       "Rivian            15\n",
       "Pontiac           15\n",
       "Ferrari           12\n",
       "Rolls-Royce       10\n",
       "Aston              8\n",
       "Scion              6\n",
       "McLaren            6\n",
       "Saturn             5\n",
       "FIAT               5\n",
       "Mercury            3\n",
       "Lotus              3\n",
       "Karma              2\n",
       "Lucid              2\n",
       "Saab               2\n",
       "Bugatti            1\n",
       "smart              1\n",
       "Polestar           1\n",
       "Plymouth           1\n",
       "Suzuki             1\n",
       "Maybach            1\n",
       "Name: brand, dtype: int64"
      ]
     },
     "execution_count": 136,
     "metadata": {},
     "output_type": "execute_result"
    }
   ],
   "source": [
    "data['brand'].value_counts()"
   ]
  },
  {
   "cell_type": "code",
   "execution_count": 138,
   "metadata": {},
   "outputs": [],
   "source": [
    "k = 0\n",
    "for i in range(0, len(data)) :\n",
    "#    print(i)\n",
    "    if(i + 1 >= len(data)) :\n",
    "        data.iloc[i, 0] = k\n",
    "        break\n",
    "    \n",
    "    else :\n",
    "        if(data.iloc[i, 0] == data.iloc[i + 1, 0]) :\n",
    "#            print('case2')\n",
    "#            print('k=', k)\n",
    "            data.iloc[i, 0] = k\n",
    "        \n",
    "        else :\n",
    "#            print('case3')\n",
    "#            print('k=', k)\n",
    "            data.iloc[i, 0] = k\n",
    "            k = k + 1\n",
    "\n",
    "# data.head()"
   ]
  },
  {
   "cell_type": "code",
   "execution_count": 139,
   "metadata": {},
   "outputs": [],
   "source": [
    "# str -> int 로 단위 바꾸기\n",
    "data['brand'] = data['brand'].astype('int64')\n",
    "# data.head()"
   ]
  },
  {
   "cell_type": "markdown",
   "metadata": {},
   "source": [
    "**model 가변수화**"
   ]
  },
  {
   "cell_type": "code",
   "execution_count": 140,
   "metadata": {},
   "outputs": [],
   "source": [
    "data = data.sort_values('model')\n",
    "\n",
    "data.reset_index(drop = True, inplace = True)\n",
    "# data.head()"
   ]
  },
  {
   "cell_type": "code",
   "execution_count": 141,
   "metadata": {},
   "outputs": [],
   "source": [
    "k = 0\n",
    "for i in range(0, len(data)) :\n",
    "#    print(i)\n",
    "    if(i + 1 >= len(data)) :\n",
    "        data.iloc[i, 1] = k\n",
    "        break\n",
    "    \n",
    "    else :\n",
    "        if(data.iloc[i, 1] == data.iloc[i + 1, 1]) :\n",
    "#            print('case2')\n",
    "#            print('k=', k)\n",
    "            data.iloc[i, 1] = k\n",
    "        \n",
    "        else :\n",
    "#            print('case3')\n",
    "#            print('k=', k)\n",
    "            data.iloc[i, 1] = k\n",
    "            k = k + 1\n",
    "\n",
    "# data.head()"
   ]
  },
  {
   "cell_type": "code",
   "execution_count": 142,
   "metadata": {},
   "outputs": [],
   "source": [
    "# str -> int 로 단위 바꾸기\n",
    "data['model'] = data['model'].astype('int64')\n",
    "# data.head()"
   ]
  },
  {
   "cell_type": "markdown",
   "metadata": {},
   "source": [
    "**milage 가변수화**"
   ]
  },
  {
   "cell_type": "code",
   "execution_count": 143,
   "metadata": {},
   "outputs": [],
   "source": [
    "# , 지우기\n",
    "for index, row in data.iterrows():\n",
    "    data.loc[index, 'milage'] = data.loc[index, 'milage'].replace(',', '')\n",
    "    data.loc[index, 'milage'] = data.loc[index, 'milage'].replace('mi.', '')"
   ]
  },
  {
   "cell_type": "code",
   "execution_count": 144,
   "metadata": {},
   "outputs": [],
   "source": [
    "# str -> int 로 단위 바꾸기\n",
    "data['milage'] = data['milage'].astype('int64')\n",
    "# data.head()"
   ]
  },
  {
   "cell_type": "markdown",
   "metadata": {},
   "source": [
    "**fuel_type 가변수화**"
   ]
  },
  {
   "cell_type": "code",
   "execution_count": 145,
   "metadata": {},
   "outputs": [],
   "source": [
    "data = data.sort_values('fuel_type')\n",
    "\n",
    "data.reset_index(drop = True, inplace = True)\n",
    "# data.head()"
   ]
  },
  {
   "cell_type": "code",
   "execution_count": 146,
   "metadata": {},
   "outputs": [],
   "source": [
    "k = 0\n",
    "for i in range(0, len(data)) :\n",
    "#    print(i)\n",
    "    if(i + 1 >= len(data)) :\n",
    "        data.iloc[i, 4] = k\n",
    "        break\n",
    "    \n",
    "    else :\n",
    "        if(data.iloc[i, 4] == data.iloc[i + 1, 4]) :\n",
    "#            print('case2')\n",
    "#            print('k=', k)\n",
    "            data.iloc[i, 4] = k\n",
    "        \n",
    "        else :\n",
    "#            print('case3')\n",
    "#            print('k=', k)\n",
    "            data.iloc[i, 4] = k\n",
    "            k = k + 1\n",
    "\n",
    "# data.head()"
   ]
  },
  {
   "cell_type": "code",
   "execution_count": 147,
   "metadata": {},
   "outputs": [],
   "source": [
    "# str -> int 로 단위 바꾸기\n",
    "data['fuel_type'] = data['fuel_type'].astype('int64')\n",
    "# data.head()"
   ]
  },
  {
   "cell_type": "markdown",
   "metadata": {},
   "source": [
    "**engine 가변수화**"
   ]
  },
  {
   "cell_type": "code",
   "execution_count": 148,
   "metadata": {},
   "outputs": [],
   "source": [
    "data = data.sort_values('engine')\n",
    "\n",
    "data.reset_index(drop = True, inplace = True)\n",
    "# data.head()"
   ]
  },
  {
   "cell_type": "code",
   "execution_count": 149,
   "metadata": {},
   "outputs": [],
   "source": [
    "k = 0\n",
    "for i in range(0, len(data)) :\n",
    "#    print(i)\n",
    "    if(i + 1 >= len(data)) :\n",
    "        data.iloc[i, 5] = k\n",
    "        break\n",
    "    \n",
    "    else :\n",
    "        if(data.iloc[i, 5] == data.iloc[i + 1, 5]) :\n",
    "#            print('case2')\n",
    "#            print('k=', k)\n",
    "            data.iloc[i, 5] = k\n",
    "        \n",
    "        else :\n",
    "#             print('case3')\n",
    "#             print('k=', k)\n",
    "            data.iloc[i, 5] = k\n",
    "            k = k + 1\n",
    "\n",
    "# data.head()"
   ]
  },
  {
   "cell_type": "code",
   "execution_count": 150,
   "metadata": {},
   "outputs": [],
   "source": [
    "# str -> int 로 단위 바꾸기\n",
    "data['engine'] = data['engine'].astype('int64')\n",
    "# data.head()"
   ]
  },
  {
   "cell_type": "code",
   "execution_count": 151,
   "metadata": {},
   "outputs": [
    {
     "data": {
      "text/plain": [
       "198     52\n",
       "724     48\n",
       "871     46\n",
       "1129    44\n",
       "325     42\n",
       "        ..\n",
       "391      1\n",
       "766      1\n",
       "389      1\n",
       "387      1\n",
       "1128     1\n",
       "Name: engine, Length: 1130, dtype: int64"
      ]
     },
     "execution_count": 151,
     "metadata": {},
     "output_type": "execute_result"
    }
   ],
   "source": [
    "data['engine'].value_counts()"
   ]
  },
  {
   "cell_type": "code",
   "execution_count": 152,
   "metadata": {},
   "outputs": [
    {
     "name": "stdout",
     "output_type": "stream",
     "text": [
      "<class 'pandas.core.frame.DataFrame'>\n",
      "RangeIndex: 3896 entries, 0 to 3895\n",
      "Data columns (total 12 columns):\n",
      " #   Column        Non-Null Count  Dtype  \n",
      "---  ------        --------------  -----  \n",
      " 0   brand         3896 non-null   int64  \n",
      " 1   model         3896 non-null   int64  \n",
      " 2   model_year    3896 non-null   int64  \n",
      " 3   milage        3896 non-null   int64  \n",
      " 4   fuel_type     3896 non-null   int64  \n",
      " 5   engine        3896 non-null   int64  \n",
      " 6   transmission  3896 non-null   object \n",
      " 7   ext_col       3896 non-null   object \n",
      " 8   int_col       3896 non-null   object \n",
      " 9   accident      3896 non-null   float64\n",
      " 10  clean_title   3896 non-null   object \n",
      " 11  price         3896 non-null   int64  \n",
      "dtypes: float64(1), int64(7), object(4)\n",
      "memory usage: 365.4+ KB\n"
     ]
    }
   ],
   "source": [
    "data.info()"
   ]
  },
  {
   "cell_type": "markdown",
   "metadata": {},
   "source": [
    "**transmission 가변수화**"
   ]
  },
  {
   "cell_type": "code",
   "execution_count": 153,
   "metadata": {},
   "outputs": [],
   "source": [
    "data = data.sort_values('transmission')\n",
    "\n",
    "data.reset_index(drop = True, inplace = True)\n",
    "# data.head()"
   ]
  },
  {
   "cell_type": "code",
   "execution_count": 155,
   "metadata": {},
   "outputs": [],
   "source": [
    "k = 0\n",
    "for i in range(0, len(data)) :\n",
    "#    print(i)\n",
    "    if(i + 1 >= len(data)) :\n",
    "        data.iloc[i, 6] = k\n",
    "        break\n",
    "    \n",
    "    else :\n",
    "        if(data.iloc[i, 6] == data.iloc[i + 1, 6]) :\n",
    "#             print('case2')\n",
    "#             print('k=', k)\n",
    "            data.iloc[i, 6] = k\n",
    "        \n",
    "        else :\n",
    "#             print('case3')\n",
    "#             print('k=', k)\n",
    "            data.iloc[i, 6] = k\n",
    "            k = k + 1\n",
    "\n",
    "# data.head()"
   ]
  },
  {
   "cell_type": "code",
   "execution_count": 156,
   "metadata": {},
   "outputs": [
    {
     "data": {
      "text/html": [
       "<div>\n",
       "<style scoped>\n",
       "    .dataframe tbody tr th:only-of-type {\n",
       "        vertical-align: middle;\n",
       "    }\n",
       "\n",
       "    .dataframe tbody tr th {\n",
       "        vertical-align: top;\n",
       "    }\n",
       "\n",
       "    .dataframe thead th {\n",
       "        text-align: right;\n",
       "    }\n",
       "</style>\n",
       "<table border=\"1\" class=\"dataframe\">\n",
       "  <thead>\n",
       "    <tr style=\"text-align: right;\">\n",
       "      <th></th>\n",
       "      <th>brand</th>\n",
       "      <th>model</th>\n",
       "      <th>model_year</th>\n",
       "      <th>milage</th>\n",
       "      <th>fuel_type</th>\n",
       "      <th>engine</th>\n",
       "      <th>transmission</th>\n",
       "      <th>ext_col</th>\n",
       "      <th>int_col</th>\n",
       "      <th>accident</th>\n",
       "      <th>clean_title</th>\n",
       "      <th>price</th>\n",
       "    </tr>\n",
       "  </thead>\n",
       "  <tbody>\n",
       "    <tr>\n",
       "      <th>3891</th>\n",
       "      <td>27</td>\n",
       "      <td>1304</td>\n",
       "      <td>2021</td>\n",
       "      <td>31365</td>\n",
       "      <td>3</td>\n",
       "      <td>536</td>\n",
       "      <td>60</td>\n",
       "      <td>Beige</td>\n",
       "      <td>Red</td>\n",
       "      <td>0.0</td>\n",
       "      <td>No</td>\n",
       "      <td>52998</td>\n",
       "    </tr>\n",
       "    <tr>\n",
       "      <th>3892</th>\n",
       "      <td>43</td>\n",
       "      <td>151</td>\n",
       "      <td>2017</td>\n",
       "      <td>16701</td>\n",
       "      <td>2</td>\n",
       "      <td>509</td>\n",
       "      <td>61</td>\n",
       "      <td>Red</td>\n",
       "      <td>–</td>\n",
       "      <td>0.0</td>\n",
       "      <td>No</td>\n",
       "      <td>107998</td>\n",
       "    </tr>\n",
       "    <tr>\n",
       "      <th>3893</th>\n",
       "      <td>43</td>\n",
       "      <td>146</td>\n",
       "      <td>2018</td>\n",
       "      <td>31678</td>\n",
       "      <td>2</td>\n",
       "      <td>509</td>\n",
       "      <td>61</td>\n",
       "      <td>Silver</td>\n",
       "      <td>–</td>\n",
       "      <td>0.0</td>\n",
       "      <td>No</td>\n",
       "      <td>106798</td>\n",
       "    </tr>\n",
       "    <tr>\n",
       "      <th>3894</th>\n",
       "      <td>14</td>\n",
       "      <td>311</td>\n",
       "      <td>1974</td>\n",
       "      <td>6217</td>\n",
       "      <td>2</td>\n",
       "      <td>1129</td>\n",
       "      <td>61</td>\n",
       "      <td>Dark Gray Metallic</td>\n",
       "      <td>–</td>\n",
       "      <td>0.0</td>\n",
       "      <td>Yes</td>\n",
       "      <td>115000</td>\n",
       "    </tr>\n",
       "    <tr>\n",
       "      <th>3895</th>\n",
       "      <td>46</td>\n",
       "      <td>1181</td>\n",
       "      <td>2023</td>\n",
       "      <td>1560</td>\n",
       "      <td>2</td>\n",
       "      <td>1129</td>\n",
       "      <td>61</td>\n",
       "      <td>Tempest</td>\n",
       "      <td>Cobalt Blue</td>\n",
       "      <td>0.0</td>\n",
       "      <td>Yes</td>\n",
       "      <td>599995</td>\n",
       "    </tr>\n",
       "  </tbody>\n",
       "</table>\n",
       "</div>"
      ],
      "text/plain": [
       "      brand  model  model_year  milage  fuel_type  engine transmission  \\\n",
       "3891     27   1304        2021   31365          3     536           60   \n",
       "3892     43    151        2017   16701          2     509           61   \n",
       "3893     43    146        2018   31678          2     509           61   \n",
       "3894     14    311        1974    6217          2    1129           61   \n",
       "3895     46   1181        2023    1560          2    1129           61   \n",
       "\n",
       "                 ext_col      int_col  accident clean_title   price  \n",
       "3891               Beige          Red       0.0          No   52998  \n",
       "3892                 Red            –       0.0          No  107998  \n",
       "3893              Silver            –       0.0          No  106798  \n",
       "3894  Dark Gray Metallic            –       0.0         Yes  115000  \n",
       "3895             Tempest  Cobalt Blue       0.0         Yes  599995  "
      ]
     },
     "execution_count": 156,
     "metadata": {},
     "output_type": "execute_result"
    }
   ],
   "source": [
    "data.tail()"
   ]
  },
  {
   "cell_type": "code",
   "execution_count": 157,
   "metadata": {},
   "outputs": [],
   "source": [
    "# str -> int 로 단위 바꾸기\n",
    "data['transmission'] = data['transmission'].astype('int64')\n",
    "# data.head()"
   ]
  },
  {
   "cell_type": "markdown",
   "metadata": {},
   "source": [
    "**ext_col 가변수화**"
   ]
  },
  {
   "cell_type": "code",
   "execution_count": 158,
   "metadata": {},
   "outputs": [],
   "source": [
    "data = data.sort_values('ext_col')\n",
    "\n",
    "data.reset_index(drop = True, inplace = True)\n",
    "# data.head()"
   ]
  },
  {
   "cell_type": "code",
   "execution_count": 159,
   "metadata": {},
   "outputs": [],
   "source": [
    "k = 0\n",
    "for i in range(0, len(data)) :\n",
    "#    print(i)\n",
    "    if(i + 1 >= len(data)) :\n",
    "        data.iloc[i, 7] = k\n",
    "        break\n",
    "    \n",
    "    else :\n",
    "        if(data.iloc[i, 7] == data.iloc[i + 1, 7]) :\n",
    "#             print('case2')\n",
    "#             print('k=', k)\n",
    "            data.iloc[i, 7] = k\n",
    "        \n",
    "        else :\n",
    "#             print('case3')\n",
    "#             print('k=', k)\n",
    "            data.iloc[i, 7] = k\n",
    "            k = k + 1\n",
    "\n",
    "# data.head()"
   ]
  },
  {
   "cell_type": "code",
   "execution_count": 160,
   "metadata": {},
   "outputs": [
    {
     "data": {
      "text/plain": [
       "29     879\n",
       "300    798\n",
       "128    485\n",
       "259    361\n",
       "38     340\n",
       "      ... \n",
       "172      1\n",
       "170      1\n",
       "169      1\n",
       "167      1\n",
       "157      1\n",
       "Name: ext_col, Length: 315, dtype: int64"
      ]
     },
     "execution_count": 160,
     "metadata": {},
     "output_type": "execute_result"
    }
   ],
   "source": [
    "data['ext_col'].value_counts()"
   ]
  },
  {
   "cell_type": "code",
   "execution_count": 161,
   "metadata": {},
   "outputs": [],
   "source": [
    "# str -> int 로 단위 바꾸기\n",
    "data['ext_col'] = data['ext_col'].astype('int64')\n",
    "# data.head()"
   ]
  },
  {
   "cell_type": "markdown",
   "metadata": {},
   "source": [
    "**int_col 가변수화**"
   ]
  },
  {
   "cell_type": "code",
   "execution_count": 162,
   "metadata": {},
   "outputs": [],
   "source": [
    "data = data.sort_values('int_col')\n",
    "\n",
    "data.reset_index(drop = True, inplace = True)\n",
    "# data.head()"
   ]
  },
  {
   "cell_type": "code",
   "execution_count": 164,
   "metadata": {},
   "outputs": [],
   "source": [
    "k = 0\n",
    "for i in range(0, len(data)) :\n",
    "#    print(i)\n",
    "    if(i + 1 >= len(data)) :\n",
    "        data.iloc[i, 8] = k\n",
    "        break\n",
    "    \n",
    "    else :\n",
    "        if(data.iloc[i, 8] == data.iloc[i + 1, 8]) :\n",
    "#             print('case2')\n",
    "#             print('k=', k)\n",
    "            data.iloc[i, 8] = k\n",
    "        \n",
    "        else :\n",
    "#             print('case3')\n",
    "#             print('k=', k)\n",
    "            data.iloc[i, 8] = k\n",
    "            k = k + 1\n",
    "\n",
    "# data.head()"
   ]
  },
  {
   "cell_type": "code",
   "execution_count": 165,
   "metadata": {},
   "outputs": [
    {
     "data": {
      "text/plain": [
       "13     1971\n",
       "10      522\n",
       "67      460\n",
       "30      152\n",
       "151     128\n",
       "       ... \n",
       "94        1\n",
       "95        1\n",
       "99        1\n",
       "100       1\n",
       "0         1\n",
       "Name: int_col, Length: 152, dtype: int64"
      ]
     },
     "execution_count": 165,
     "metadata": {},
     "output_type": "execute_result"
    }
   ],
   "source": [
    "data['int_col'].value_counts()"
   ]
  },
  {
   "cell_type": "code",
   "execution_count": 166,
   "metadata": {},
   "outputs": [],
   "source": [
    "# str -> int 로 단위 바꾸기\n",
    "data['int_col'] = data['int_col'].astype('int64')\n",
    "# data.head()"
   ]
  },
  {
   "cell_type": "markdown",
   "metadata": {},
   "source": [
    "**accident 데이터 타입 float->int로 변환**"
   ]
  },
  {
   "cell_type": "code",
   "execution_count": 167,
   "metadata": {},
   "outputs": [],
   "source": [
    "data['accident'] = data['accident'].astype('int64')\n",
    "# data.head()"
   ]
  },
  {
   "cell_type": "code",
   "execution_count": 168,
   "metadata": {},
   "outputs": [
    {
     "data": {
      "text/plain": [
       "0    2910\n",
       "1     986\n",
       "Name: accident, dtype: int64"
      ]
     },
     "execution_count": 168,
     "metadata": {},
     "output_type": "execute_result"
    }
   ],
   "source": [
    "data['accident'].value_counts()"
   ]
  },
  {
   "cell_type": "markdown",
   "metadata": {},
   "source": [
    "**clean_title 가변수화**"
   ]
  },
  {
   "cell_type": "code",
   "execution_count": 169,
   "metadata": {},
   "outputs": [
    {
     "data": {
      "text/plain": [
       "Yes    3413\n",
       "No      483\n",
       "Name: clean_title, dtype: int64"
      ]
     },
     "execution_count": 169,
     "metadata": {},
     "output_type": "execute_result"
    }
   ],
   "source": [
    "data['clean_title'].value_counts()"
   ]
  },
  {
   "cell_type": "code",
   "execution_count": 170,
   "metadata": {},
   "outputs": [],
   "source": [
    "data['clean_title'] = data['clean_title'].replace('Yes', 1)\n",
    "data['clean_title'] = data['clean_title'].replace('No', 0)\n",
    "# data.head()"
   ]
  },
  {
   "cell_type": "code",
   "execution_count": 171,
   "metadata": {},
   "outputs": [
    {
     "data": {
      "text/plain": [
       "1    3413\n",
       "0     483\n",
       "Name: clean_title, dtype: int64"
      ]
     },
     "execution_count": 171,
     "metadata": {},
     "output_type": "execute_result"
    }
   ],
   "source": [
    "data['clean_title'].value_counts()"
   ]
  },
  {
   "cell_type": "code",
   "execution_count": 172,
   "metadata": {},
   "outputs": [
    {
     "name": "stdout",
     "output_type": "stream",
     "text": [
      "<class 'pandas.core.frame.DataFrame'>\n",
      "RangeIndex: 3896 entries, 0 to 3895\n",
      "Data columns (total 12 columns):\n",
      " #   Column        Non-Null Count  Dtype\n",
      "---  ------        --------------  -----\n",
      " 0   brand         3896 non-null   int64\n",
      " 1   model         3896 non-null   int64\n",
      " 2   model_year    3896 non-null   int64\n",
      " 3   milage        3896 non-null   int64\n",
      " 4   fuel_type     3896 non-null   int64\n",
      " 5   engine        3896 non-null   int64\n",
      " 6   transmission  3896 non-null   int64\n",
      " 7   ext_col       3896 non-null   int64\n",
      " 8   int_col       3896 non-null   int64\n",
      " 9   accident      3896 non-null   int64\n",
      " 10  clean_title   3896 non-null   int64\n",
      " 11  price         3896 non-null   int64\n",
      "dtypes: int64(12)\n",
      "memory usage: 365.4 KB\n"
     ]
    }
   ],
   "source": [
    "data.info()"
   ]
  },
  {
   "cell_type": "code",
   "execution_count": 173,
   "metadata": {},
   "outputs": [
    {
     "data": {
      "text/html": [
       "<div>\n",
       "<style scoped>\n",
       "    .dataframe tbody tr th:only-of-type {\n",
       "        vertical-align: middle;\n",
       "    }\n",
       "\n",
       "    .dataframe tbody tr th {\n",
       "        vertical-align: top;\n",
       "    }\n",
       "\n",
       "    .dataframe thead th {\n",
       "        text-align: right;\n",
       "    }\n",
       "</style>\n",
       "<table border=\"1\" class=\"dataframe\">\n",
       "  <thead>\n",
       "    <tr style=\"text-align: right;\">\n",
       "      <th></th>\n",
       "      <th>brand</th>\n",
       "      <th>model</th>\n",
       "      <th>model_year</th>\n",
       "      <th>milage</th>\n",
       "      <th>fuel_type</th>\n",
       "      <th>engine</th>\n",
       "      <th>transmission</th>\n",
       "      <th>ext_col</th>\n",
       "      <th>int_col</th>\n",
       "      <th>accident</th>\n",
       "      <th>clean_title</th>\n",
       "      <th>price</th>\n",
       "    </tr>\n",
       "  </thead>\n",
       "  <tbody>\n",
       "    <tr>\n",
       "      <th>brand</th>\n",
       "      <td>1.000000</td>\n",
       "      <td>-0.064894</td>\n",
       "      <td>0.005832</td>\n",
       "      <td>-0.011520</td>\n",
       "      <td>0.045100</td>\n",
       "      <td>-0.065850</td>\n",
       "      <td>-0.006285</td>\n",
       "      <td>-0.004772</td>\n",
       "      <td>0.008923</td>\n",
       "      <td>-0.025128</td>\n",
       "      <td>0.008281</td>\n",
       "      <td>0.028774</td>\n",
       "    </tr>\n",
       "    <tr>\n",
       "      <th>model</th>\n",
       "      <td>-0.064894</td>\n",
       "      <td>1.000000</td>\n",
       "      <td>0.025977</td>\n",
       "      <td>0.028727</td>\n",
       "      <td>0.046368</td>\n",
       "      <td>-0.038451</td>\n",
       "      <td>-0.024814</td>\n",
       "      <td>-0.009769</td>\n",
       "      <td>0.040937</td>\n",
       "      <td>0.000724</td>\n",
       "      <td>-0.043361</td>\n",
       "      <td>-0.031058</td>\n",
       "    </tr>\n",
       "    <tr>\n",
       "      <th>model_year</th>\n",
       "      <td>0.005832</td>\n",
       "      <td>0.025977</td>\n",
       "      <td>1.000000</td>\n",
       "      <td>-0.625200</td>\n",
       "      <td>0.115315</td>\n",
       "      <td>0.147874</td>\n",
       "      <td>0.064820</td>\n",
       "      <td>-0.033648</td>\n",
       "      <td>0.034695</td>\n",
       "      <td>-0.199087</td>\n",
       "      <td>-0.295047</td>\n",
       "      <td>0.196643</td>\n",
       "    </tr>\n",
       "    <tr>\n",
       "      <th>milage</th>\n",
       "      <td>-0.011520</td>\n",
       "      <td>0.028727</td>\n",
       "      <td>-0.625200</td>\n",
       "      <td>1.000000</td>\n",
       "      <td>-0.186376</td>\n",
       "      <td>-0.226757</td>\n",
       "      <td>-0.045842</td>\n",
       "      <td>-0.002036</td>\n",
       "      <td>-0.052853</td>\n",
       "      <td>0.301100</td>\n",
       "      <td>0.258453</td>\n",
       "      <td>-0.302596</td>\n",
       "    </tr>\n",
       "    <tr>\n",
       "      <th>fuel_type</th>\n",
       "      <td>0.045100</td>\n",
       "      <td>0.046368</td>\n",
       "      <td>0.115315</td>\n",
       "      <td>-0.186376</td>\n",
       "      <td>1.000000</td>\n",
       "      <td>-0.059435</td>\n",
       "      <td>0.123915</td>\n",
       "      <td>-0.031566</td>\n",
       "      <td>-0.004305</td>\n",
       "      <td>-0.056473</td>\n",
       "      <td>-0.054855</td>\n",
       "      <td>0.020014</td>\n",
       "    </tr>\n",
       "    <tr>\n",
       "      <th>engine</th>\n",
       "      <td>-0.065850</td>\n",
       "      <td>-0.038451</td>\n",
       "      <td>0.147874</td>\n",
       "      <td>-0.226757</td>\n",
       "      <td>-0.059435</td>\n",
       "      <td>1.000000</td>\n",
       "      <td>-0.010014</td>\n",
       "      <td>-0.038022</td>\n",
       "      <td>0.026226</td>\n",
       "      <td>-0.097535</td>\n",
       "      <td>0.040461</td>\n",
       "      <td>0.280861</td>\n",
       "    </tr>\n",
       "    <tr>\n",
       "      <th>transmission</th>\n",
       "      <td>-0.006285</td>\n",
       "      <td>-0.024814</td>\n",
       "      <td>0.064820</td>\n",
       "      <td>-0.045842</td>\n",
       "      <td>0.123915</td>\n",
       "      <td>-0.010014</td>\n",
       "      <td>1.000000</td>\n",
       "      <td>0.007086</td>\n",
       "      <td>-0.027761</td>\n",
       "      <td>0.019978</td>\n",
       "      <td>-0.051088</td>\n",
       "      <td>0.036026</td>\n",
       "    </tr>\n",
       "    <tr>\n",
       "      <th>ext_col</th>\n",
       "      <td>-0.004772</td>\n",
       "      <td>-0.009769</td>\n",
       "      <td>-0.033648</td>\n",
       "      <td>-0.002036</td>\n",
       "      <td>-0.031566</td>\n",
       "      <td>-0.038022</td>\n",
       "      <td>0.007086</td>\n",
       "      <td>1.000000</td>\n",
       "      <td>0.083894</td>\n",
       "      <td>-0.004669</td>\n",
       "      <td>0.013446</td>\n",
       "      <td>0.006788</td>\n",
       "    </tr>\n",
       "    <tr>\n",
       "      <th>int_col</th>\n",
       "      <td>0.008923</td>\n",
       "      <td>0.040937</td>\n",
       "      <td>0.034695</td>\n",
       "      <td>-0.052853</td>\n",
       "      <td>-0.004305</td>\n",
       "      <td>0.026226</td>\n",
       "      <td>-0.027761</td>\n",
       "      <td>0.083894</td>\n",
       "      <td>1.000000</td>\n",
       "      <td>-0.010206</td>\n",
       "      <td>-0.101901</td>\n",
       "      <td>0.067207</td>\n",
       "    </tr>\n",
       "    <tr>\n",
       "      <th>accident</th>\n",
       "      <td>-0.025128</td>\n",
       "      <td>0.000724</td>\n",
       "      <td>-0.199087</td>\n",
       "      <td>0.301100</td>\n",
       "      <td>-0.056473</td>\n",
       "      <td>-0.097535</td>\n",
       "      <td>0.019978</td>\n",
       "      <td>-0.004669</td>\n",
       "      <td>-0.010206</td>\n",
       "      <td>1.000000</td>\n",
       "      <td>0.145529</td>\n",
       "      <td>-0.113850</td>\n",
       "    </tr>\n",
       "    <tr>\n",
       "      <th>clean_title</th>\n",
       "      <td>0.008281</td>\n",
       "      <td>-0.043361</td>\n",
       "      <td>-0.295047</td>\n",
       "      <td>0.258453</td>\n",
       "      <td>-0.054855</td>\n",
       "      <td>0.040461</td>\n",
       "      <td>-0.051088</td>\n",
       "      <td>0.013446</td>\n",
       "      <td>-0.101901</td>\n",
       "      <td>0.145529</td>\n",
       "      <td>1.000000</td>\n",
       "      <td>-0.088253</td>\n",
       "    </tr>\n",
       "    <tr>\n",
       "      <th>price</th>\n",
       "      <td>0.028774</td>\n",
       "      <td>-0.031058</td>\n",
       "      <td>0.196643</td>\n",
       "      <td>-0.302596</td>\n",
       "      <td>0.020014</td>\n",
       "      <td>0.280861</td>\n",
       "      <td>0.036026</td>\n",
       "      <td>0.006788</td>\n",
       "      <td>0.067207</td>\n",
       "      <td>-0.113850</td>\n",
       "      <td>-0.088253</td>\n",
       "      <td>1.000000</td>\n",
       "    </tr>\n",
       "  </tbody>\n",
       "</table>\n",
       "</div>"
      ],
      "text/plain": [
       "                 brand     model  model_year    milage  fuel_type    engine  \\\n",
       "brand         1.000000 -0.064894    0.005832 -0.011520   0.045100 -0.065850   \n",
       "model        -0.064894  1.000000    0.025977  0.028727   0.046368 -0.038451   \n",
       "model_year    0.005832  0.025977    1.000000 -0.625200   0.115315  0.147874   \n",
       "milage       -0.011520  0.028727   -0.625200  1.000000  -0.186376 -0.226757   \n",
       "fuel_type     0.045100  0.046368    0.115315 -0.186376   1.000000 -0.059435   \n",
       "engine       -0.065850 -0.038451    0.147874 -0.226757  -0.059435  1.000000   \n",
       "transmission -0.006285 -0.024814    0.064820 -0.045842   0.123915 -0.010014   \n",
       "ext_col      -0.004772 -0.009769   -0.033648 -0.002036  -0.031566 -0.038022   \n",
       "int_col       0.008923  0.040937    0.034695 -0.052853  -0.004305  0.026226   \n",
       "accident     -0.025128  0.000724   -0.199087  0.301100  -0.056473 -0.097535   \n",
       "clean_title   0.008281 -0.043361   -0.295047  0.258453  -0.054855  0.040461   \n",
       "price         0.028774 -0.031058    0.196643 -0.302596   0.020014  0.280861   \n",
       "\n",
       "              transmission   ext_col   int_col  accident  clean_title  \\\n",
       "brand            -0.006285 -0.004772  0.008923 -0.025128     0.008281   \n",
       "model            -0.024814 -0.009769  0.040937  0.000724    -0.043361   \n",
       "model_year        0.064820 -0.033648  0.034695 -0.199087    -0.295047   \n",
       "milage           -0.045842 -0.002036 -0.052853  0.301100     0.258453   \n",
       "fuel_type         0.123915 -0.031566 -0.004305 -0.056473    -0.054855   \n",
       "engine           -0.010014 -0.038022  0.026226 -0.097535     0.040461   \n",
       "transmission      1.000000  0.007086 -0.027761  0.019978    -0.051088   \n",
       "ext_col           0.007086  1.000000  0.083894 -0.004669     0.013446   \n",
       "int_col          -0.027761  0.083894  1.000000 -0.010206    -0.101901   \n",
       "accident          0.019978 -0.004669 -0.010206  1.000000     0.145529   \n",
       "clean_title      -0.051088  0.013446 -0.101901  0.145529     1.000000   \n",
       "price             0.036026  0.006788  0.067207 -0.113850    -0.088253   \n",
       "\n",
       "                 price  \n",
       "brand         0.028774  \n",
       "model        -0.031058  \n",
       "model_year    0.196643  \n",
       "milage       -0.302596  \n",
       "fuel_type     0.020014  \n",
       "engine        0.280861  \n",
       "transmission  0.036026  \n",
       "ext_col       0.006788  \n",
       "int_col       0.067207  \n",
       "accident     -0.113850  \n",
       "clean_title  -0.088253  \n",
       "price         1.000000  "
      ]
     },
     "execution_count": 173,
     "metadata": {},
     "output_type": "execute_result"
    }
   ],
   "source": [
    "data.corr()"
   ]
  },
  {
   "cell_type": "markdown",
   "metadata": {},
   "source": [
    "model_year : milage  \n",
    "engine : milage  \n",
    "milage : price  \n",
    "engine : price"
   ]
  },
  {
   "cell_type": "markdown",
   "metadata": {},
   "source": [
    "------------"
   ]
  },
  {
   "cell_type": "markdown",
   "metadata": {},
   "source": [
    "## 가설 세우기  \n",
    "* price는 accident, clean_title, model, model_year, milage, engine 의 영향을 받을 것이다."
   ]
  },
  {
   "cell_type": "markdown",
   "metadata": {},
   "source": [
    "<span style=\"color:green\"> accident </span>"
   ]
  },
  {
   "cell_type": "code",
   "execution_count": 70,
   "metadata": {},
   "outputs": [
    {
     "name": "stderr",
     "output_type": "stream",
     "text": [
      "C:\\Users\\USER\\anaconda3\\lib\\site-packages\\seaborn\\distributions.py:305: UserWarning: Dataset has 0 variance; skipping density estimate.\n",
      "  warnings.warn(msg, UserWarning)\n",
      "C:\\Users\\USER\\anaconda3\\lib\\site-packages\\seaborn\\distributions.py:305: UserWarning: Dataset has 0 variance; skipping density estimate.\n",
      "  warnings.warn(msg, UserWarning)\n"
     ]
    },
    {
     "data": {
      "image/png": "[encoded data removed]",
      "text/plain": [
       "<Figure size 432x432 with 3 Axes>"
      ]
     },
     "metadata": {
      "image/png": {
       "height": 423,
       "width": 424
      },
      "needs_background": "light"
     },
     "output_type": "display_data"
    }
   ],
   "source": [
    "sns.jointplot(x='accident', y='price', data=data, hue='accident')\n",
    "plt.show()"
   ]
  },
  {
   "cell_type": "code",
   "execution_count": 71,
   "metadata": {
    "scrolled": true
   },
   "outputs": [
    {
     "data": {
      "image/png": "[encoded data removed]",
      "text/plain": [
       "<Figure size 432x288 with 1 Axes>"
      ]
     },
     "metadata": {
      "image/png": {
       "height": 261,
       "width": 401
      },
      "needs_background": "light"
     },
     "output_type": "display_data"
    }
   ],
   "source": [
    "sns.barplot(x='accident', y='price', data=data)\n",
    "plt.show()"
   ]
  },
  {
   "cell_type": "code",
   "execution_count": 72,
   "metadata": {},
   "outputs": [
    {
     "data": {
      "image/png": "[encoded data removed]",
      "text/plain": [
       "<Figure size 432x288 with 1 Axes>"
      ]
     },
     "metadata": {
      "image/png": {
       "height": 272,
       "width": 385
      },
      "needs_background": "light"
     },
     "output_type": "display_data"
    }
   ],
   "source": [
    "d1 = data.loc[data['accident'] == 0]\n",
    "d2 = data.loc[data['accident'] == 1]\n",
    "\n",
    "sns.kdeplot(x = 'price', data = d1, label = 'No')\n",
    "sns.kdeplot(x = 'price', data = d2, label = 'Yes')\n",
    "\n",
    "plt.legend()\n",
    "plt.show()"
   ]
  },
  {
   "cell_type": "markdown",
   "metadata": {},
   "source": [
    "accident가 있으면(value==1) price가 상대적으로 낮다."
   ]
  },
  {
   "cell_type": "code",
   "execution_count": 73,
   "metadata": {},
   "outputs": [
    {
     "data": {
      "text/plain": [
       "([<matplotlib.patches.Wedge at 0x21a39c75670>,\n",
       "  <matplotlib.patches.Wedge at 0x21a39c75b50>,\n",
       "  <matplotlib.patches.Wedge at 0x21a39c75f70>,\n",
       "  <matplotlib.patches.Wedge at 0x21a39c83370>,\n",
       "  <matplotlib.patches.Wedge at 0x21a39c837f0>,\n",
       "  <matplotlib.patches.Wedge at 0x21a39c83c70>,\n",
       "  <matplotlib.patches.Wedge at 0x21a39c8f130>,\n",
       "  <matplotlib.patches.Wedge at 0x21a39c8f5b0>,\n",
       "  <matplotlib.patches.Wedge at 0x21a39c8fa30>,\n",
       "  <matplotlib.patches.Wedge at 0x21a39c8feb0>,\n",
       "  <matplotlib.patches.Wedge at 0x21a39c57100>,\n",
       "  <matplotlib.patches.Wedge at 0x21a39a5b7c0>,\n",
       "  <matplotlib.patches.Wedge at 0x21a39a5bc40>,\n",
       "  <matplotlib.patches.Wedge at 0x21a39a69100>,\n",
       "  <matplotlib.patches.Wedge at 0x21a39a69580>,\n",
       "  <matplotlib.patches.Wedge at 0x21a39a69a00>,\n",
       "  <matplotlib.patches.Wedge at 0x21a39a69e80>,\n",
       "  <matplotlib.patches.Wedge at 0x21a39a77340>,\n",
       "  <matplotlib.patches.Wedge at 0x21a39a777c0>,\n",
       "  <matplotlib.patches.Wedge at 0x21a39a77c40>,\n",
       "  <matplotlib.patches.Wedge at 0x21a39a85100>,\n",
       "  <matplotlib.patches.Wedge at 0x21a39a85580>,\n",
       "  <matplotlib.patches.Wedge at 0x21a39a85a00>,\n",
       "  <matplotlib.patches.Wedge at 0x21a39a85e80>,\n",
       "  <matplotlib.patches.Wedge at 0x21a39a93340>,\n",
       "  <matplotlib.patches.Wedge at 0x21a39a937c0>,\n",
       "  <matplotlib.patches.Wedge at 0x21a39a93c40>,\n",
       "  <matplotlib.patches.Wedge at 0x21a39a9f100>,\n",
       "  <matplotlib.patches.Wedge at 0x21a39a9f580>,\n",
       "  <matplotlib.patches.Wedge at 0x21a39a9fa00>,\n",
       "  <matplotlib.patches.Wedge at 0x21a39a9fe80>,\n",
       "  <matplotlib.patches.Wedge at 0x21a39aad340>,\n",
       "  <matplotlib.patches.Wedge at 0x21a39aad7c0>,\n",
       "  <matplotlib.patches.Wedge at 0x21a39aadc40>,\n",
       "  <matplotlib.patches.Wedge at 0x21a39aba100>,\n",
       "  <matplotlib.patches.Wedge at 0x21a39aba580>,\n",
       "  <matplotlib.patches.Wedge at 0x21a39abaa00>,\n",
       "  <matplotlib.patches.Wedge at 0x21a39abae80>,\n",
       "  <matplotlib.patches.Wedge at 0x21a39ac9340>,\n",
       "  <matplotlib.patches.Wedge at 0x21a39ac97c0>,\n",
       "  <matplotlib.patches.Wedge at 0x21a39ac9c40>,\n",
       "  <matplotlib.patches.Wedge at 0x21a39ad6100>,\n",
       "  <matplotlib.patches.Wedge at 0x21a39ad6580>,\n",
       "  <matplotlib.patches.Wedge at 0x21a39ad6a00>,\n",
       "  <matplotlib.patches.Wedge at 0x21a39ad6e80>,\n",
       "  <matplotlib.patches.Wedge at 0x21a39ae4340>,\n",
       "  <matplotlib.patches.Wedge at 0x21a39ae47c0>,\n",
       "  <matplotlib.patches.Wedge at 0x21a39ae4c40>,\n",
       "  <matplotlib.patches.Wedge at 0x21a39af0100>,\n",
       "  <matplotlib.patches.Wedge at 0x21a39af0580>,\n",
       "  <matplotlib.patches.Wedge at 0x21a39af0a30>,\n",
       "  <matplotlib.patches.Wedge at 0x21a39af0eb0>,\n",
       "  <matplotlib.patches.Wedge at 0x21a39afd370>,\n",
       "  <matplotlib.patches.Wedge at 0x21a39afd7f0>,\n",
       "  <matplotlib.patches.Wedge at 0x21a39afdca0>,\n",
       "  <matplotlib.patches.Wedge at 0x21a39b0a160>,\n",
       "  <matplotlib.patches.Wedge at 0x21a39b0a5e0>],\n",
       " [Text(1.0508807816453112, 0.3250378174436633, '14'),\n",
       "  Text(0.6873238070715484, 0.8588282623625477, '4'),\n",
       "  Text(0.14152660625212038, 1.0908575616104779, '36'),\n",
       "  Text(-0.3779812394188488, 1.0330199333252923, '9'),\n",
       "  Text(-0.7406023883357009, 0.8133314837084914, '53'),\n",
       "  Text(-0.9558636094501302, 0.5443571990237376, '3'),\n",
       "  Text(-1.0755425531714198, 0.23066906233282328, '43'),\n",
       "  Text(-1.0974171897299114, -0.07533599196469117, '27'),\n",
       "  Text(-1.0476864421729728, -0.33519116767441554, '22'),\n",
       "  Text(-0.9532187244510759, -0.5489754669890667, '26'),\n",
       "  Text(-0.8298442225818717, -0.7220516368290353, '39'),\n",
       "  Text(-0.6907808370266469, -0.856050135913058, '8'),\n",
       "  Text(-0.5489754614111437, -0.9532187276635001, '44'),\n",
       "  Text(-0.4061572911998625, -1.0222701476641045, '11'),\n",
       "  Text(-0.2566173966579268, -1.0696483121720468, '15'),\n",
       "  Text(-0.10362510905477253, -1.0951081393056061, '52'),\n",
       "  Text(0.039906244189661946, -1.0992758942479706, '24'),\n",
       "  Text(0.16611802058837344, -1.087384386146776, '19'),\n",
       "  Text(0.2798429359343359, -1.0638082210660207, '0'),\n",
       "  Text(0.3862987610163281, -1.0299384774039904, '50'),\n",
       "  Text(0.48797549740181795, -0.9858396999185256, '34'),\n",
       "  Text(0.5824430776332806, -0.9331452519929962, '17'),\n",
       "  Text(0.6691683458645568, -0.8730485237905699, '54'),\n",
       "  Text(0.747136649131239, -0.8073331577019143, '20'),\n",
       "  Text(0.8133314967097786, -0.740602374057653, '28'),\n",
       "  Text(0.8681692499651109, -0.6754866049116127, '21'),\n",
       "  Text(0.9114008904919049, -0.6159126697922059, '55'),\n",
       "  Text(0.9446963856064428, -0.5635146307081329, '32'),\n",
       "  Text(0.972921382288275, -0.5132484621372698, '31'),\n",
       "  Text(0.9977285029303351, -0.46318229072406514, '5'),\n",
       "  Text(1.0192956641802138, -0.41356541076765224, '7'),\n",
       "  Text(1.0372210876937877, -0.3662955299253812, '10'),\n",
       "  Text(1.0519237096297833, -0.3216465593142814, '25'),\n",
       "  Text(1.0631281491178994, -0.28241554233637634, '38'),\n",
       "  Text(1.071482472941922, -0.2488479659918154, '16'),\n",
       "  Text(1.078078007257134, -0.21851272335607091, '18'),\n",
       "  Text(1.0833569173255, -0.19062473523388762, '1'),\n",
       "  Text(1.0877830620005142, -0.163487033200757, '42'),\n",
       "  Text(1.0914193062992967, -0.13712730522095884, '45'),\n",
       "  Text(1.094145918392074, -0.11333450165754928, '13'),\n",
       "  Text(1.095984203427045, -0.09390753877291133, '46'),\n",
       "  Text(1.0972317361973907, -0.07799049353132723, '2'),\n",
       "  Text(1.098042242440052, -0.06559903823397234, '35'),\n",
       "  Text(1.0986255871166946, -0.054971077236111276, '49'),\n",
       "  Text(1.0990699562175417, -0.045224233989880416, '48'),\n",
       "  Text(1.0993988922297608, -0.0363603597888546, '12'),\n",
       "  Text(1.0996105727310632, -0.02926753044011323, '29'),\n",
       "  Text(1.099739303990334, -0.023947092910323015, '37'),\n",
       "  Text(1.0998269156266216, -0.019512961416259276, '30'),\n",
       "  Text(1.0998841326371085, -0.01596542430115396, '23'),\n",
       "  Text(1.099929906949964, -0.012417721088986769, '47'),\n",
       "  Text(1.0999567281233358, -0.00975685688150137, '6'),\n",
       "  Text(1.0999710328333403, -0.007982914728018653, '51'),\n",
       "  Text(1.099982476641059, -0.006208951811861844, '33'),\n",
       "  Text(1.0999910595167282, -0.004434972746913089, '41'),\n",
       "  Text(1.0999967814380245, -0.0026609821470926285, '40'),\n",
       "  Text(1.099999642390066, -0.000886984626354612, '56')])"
      ]
     },
     "execution_count": 73,
     "metadata": {},
     "output_type": "execute_result"
    },
    {
     "data": {
      "image/png": "[encoded data removed]",
      "text/plain": [
       "<Figure size 432x288 with 1 Axes>"
      ]
     },
     "metadata": {
      "image/png": {
       "height": 231,
       "width": 231
      }
     },
     "output_type": "display_data"
    }
   ],
   "source": [
    "cnt = data['brand'].value_counts()\n",
    "plt.pie(cnt.values, labels = cnt.index)"
   ]
  },
  {
   "cell_type": "code",
   "execution_count": 74,
   "metadata": {},
   "outputs": [
    {
     "name": "stderr",
     "output_type": "stream",
     "text": [
      "C:\\Users\\USER\\anaconda3\\lib\\site-packages\\seaborn\\distributions.py:2551: FutureWarning: `distplot` is a deprecated function and will be removed in a future version. Please adapt your code to use either `displot` (a figure-level function with similar flexibility) or `histplot` (an axes-level function for histograms).\n",
      "  warnings.warn(msg, FutureWarning)\n"
     ]
    },
    {
     "data": {
      "text/plain": [
       "<AxesSubplot:xlabel='price', ylabel='Density'>"
      ]
     },
     "execution_count": 74,
     "metadata": {},
     "output_type": "execute_result"
    },
    {
     "data": {
      "image/png": "[encoded data removed]",
      "text/plain": [
       "<Figure size 432x288 with 1 Axes>"
      ]
     },
     "metadata": {
      "image/png": {
       "height": 272,
       "width": 385
      },
      "needs_background": "light"
     },
     "output_type": "display_data"
    }
   ],
   "source": [
    "model142 = data.loc[data['model'] == 142]\n",
    "sns.distplot(model142['price'])"
   ]
  },
  {
   "cell_type": "markdown",
   "metadata": {},
   "source": [
    "model 142의 가격대는 약 40,000 ~ 150,000까지 다양함  \n",
    "-> 같은 model 안에서 가격대가 일정하지 않으므로, model보다 더 큰 영향을 주는 요인이 있음"
   ]
  },
  {
   "cell_type": "markdown",
   "metadata": {},
   "source": [
    "<span style=\"color:green\"> model_year </span>"
   ]
  },
  {
   "cell_type": "code",
   "execution_count": 75,
   "metadata": {},
   "outputs": [
    {
     "data": {
      "image/png": "[encoded data removed]",
      "text/plain": [
       "<Figure size 432x288 with 1 Axes>"
      ]
     },
     "metadata": {
      "image/png": {
       "height": 262,
       "width": 407
      },
      "needs_background": "light"
     },
     "output_type": "display_data"
    }
   ],
   "source": [
    "tmp = model142.loc[model142['accident'] == 0]\n",
    "sns.barplot(x=\"model_year\", y=\"price\", data=tmp)\n",
    "plt.show()"
   ]
  },
  {
   "cell_type": "code",
   "execution_count": 76,
   "metadata": {},
   "outputs": [
    {
     "data": {
      "image/png": "[encoded data removed]",
      "text/plain": [
       "<Figure size 1080x720 with 1 Axes>"
      ]
     },
     "metadata": {
      "image/png": {
       "height": 588,
       "width": 910
      },
      "needs_background": "light"
     },
     "output_type": "display_data"
    }
   ],
   "source": [
    "plt.figure(figsize = (15, 10))\n",
    "sns.barplot(x='model_year', y='price', data=data)\n",
    "\n",
    "plt.show()"
   ]
  },
  {
   "cell_type": "markdown",
   "metadata": {},
   "source": [
    "대체로 model_year와 가격은 비례한다.  \n",
    "accident보다 model_year가 가격에 미치는 영향이 더 크다."
   ]
  },
  {
   "cell_type": "code",
   "execution_count": 77,
   "metadata": {},
   "outputs": [
    {
     "name": "stderr",
     "output_type": "stream",
     "text": [
      "C:\\Users\\USER\\anaconda3\\lib\\site-packages\\seaborn\\distributions.py:305: UserWarning: Dataset has 0 variance; skipping density estimate.\n",
      "  warnings.warn(msg, UserWarning)\n",
      "C:\\Users\\USER\\anaconda3\\lib\\site-packages\\seaborn\\distributions.py:305: UserWarning: Dataset has 0 variance; skipping density estimate.\n",
      "  warnings.warn(msg, UserWarning)\n",
      "C:\\Users\\USER\\anaconda3\\lib\\site-packages\\seaborn\\distributions.py:305: UserWarning: Dataset has 0 variance; skipping density estimate.\n",
      "  warnings.warn(msg, UserWarning)\n",
      "C:\\Users\\USER\\anaconda3\\lib\\site-packages\\seaborn\\distributions.py:305: UserWarning: Dataset has 0 variance; skipping density estimate.\n",
      "  warnings.warn(msg, UserWarning)\n",
      "C:\\Users\\USER\\anaconda3\\lib\\site-packages\\seaborn\\distributions.py:305: UserWarning: Dataset has 0 variance; skipping density estimate.\n",
      "  warnings.warn(msg, UserWarning)\n",
      "C:\\Users\\USER\\anaconda3\\lib\\site-packages\\seaborn\\distributions.py:305: UserWarning: Dataset has 0 variance; skipping density estimate.\n",
      "  warnings.warn(msg, UserWarning)\n",
      "C:\\Users\\USER\\anaconda3\\lib\\site-packages\\seaborn\\distributions.py:305: UserWarning: Dataset has 0 variance; skipping density estimate.\n",
      "  warnings.warn(msg, UserWarning)\n",
      "C:\\Users\\USER\\anaconda3\\lib\\site-packages\\seaborn\\distributions.py:305: UserWarning: Dataset has 0 variance; skipping density estimate.\n",
      "  warnings.warn(msg, UserWarning)\n",
      "C:\\Users\\USER\\anaconda3\\lib\\site-packages\\seaborn\\distributions.py:305: UserWarning: Dataset has 0 variance; skipping density estimate.\n",
      "  warnings.warn(msg, UserWarning)\n",
      "C:\\Users\\USER\\anaconda3\\lib\\site-packages\\seaborn\\distributions.py:305: UserWarning: Dataset has 0 variance; skipping density estimate.\n",
      "  warnings.warn(msg, UserWarning)\n",
      "C:\\Users\\USER\\anaconda3\\lib\\site-packages\\seaborn\\distributions.py:305: UserWarning: Dataset has 0 variance; skipping density estimate.\n",
      "  warnings.warn(msg, UserWarning)\n",
      "C:\\Users\\USER\\anaconda3\\lib\\site-packages\\seaborn\\distributions.py:305: UserWarning: Dataset has 0 variance; skipping density estimate.\n",
      "  warnings.warn(msg, UserWarning)\n",
      "C:\\Users\\USER\\anaconda3\\lib\\site-packages\\seaborn\\distributions.py:305: UserWarning: Dataset has 0 variance; skipping density estimate.\n",
      "  warnings.warn(msg, UserWarning)\n",
      "C:\\Users\\USER\\anaconda3\\lib\\site-packages\\seaborn\\distributions.py:305: UserWarning: Dataset has 0 variance; skipping density estimate.\n",
      "  warnings.warn(msg, UserWarning)\n",
      "C:\\Users\\USER\\anaconda3\\lib\\site-packages\\seaborn\\distributions.py:305: UserWarning: Dataset has 0 variance; skipping density estimate.\n",
      "  warnings.warn(msg, UserWarning)\n",
      "C:\\Users\\USER\\anaconda3\\lib\\site-packages\\seaborn\\distributions.py:305: UserWarning: Dataset has 0 variance; skipping density estimate.\n",
      "  warnings.warn(msg, UserWarning)\n",
      "C:\\Users\\USER\\anaconda3\\lib\\site-packages\\seaborn\\distributions.py:305: UserWarning: Dataset has 0 variance; skipping density estimate.\n",
      "  warnings.warn(msg, UserWarning)\n",
      "C:\\Users\\USER\\anaconda3\\lib\\site-packages\\seaborn\\distributions.py:305: UserWarning: Dataset has 0 variance; skipping density estimate.\n",
      "  warnings.warn(msg, UserWarning)\n",
      "C:\\Users\\USER\\anaconda3\\lib\\site-packages\\seaborn\\distributions.py:305: UserWarning: Dataset has 0 variance; skipping density estimate.\n",
      "  warnings.warn(msg, UserWarning)\n",
      "C:\\Users\\USER\\anaconda3\\lib\\site-packages\\seaborn\\distributions.py:305: UserWarning: Dataset has 0 variance; skipping density estimate.\n",
      "  warnings.warn(msg, UserWarning)\n",
      "C:\\Users\\USER\\anaconda3\\lib\\site-packages\\seaborn\\distributions.py:305: UserWarning: Dataset has 0 variance; skipping density estimate.\n",
      "  warnings.warn(msg, UserWarning)\n",
      "C:\\Users\\USER\\anaconda3\\lib\\site-packages\\seaborn\\distributions.py:305: UserWarning: Dataset has 0 variance; skipping density estimate.\n",
      "  warnings.warn(msg, UserWarning)\n",
      "C:\\Users\\USER\\anaconda3\\lib\\site-packages\\seaborn\\distributions.py:305: UserWarning: Dataset has 0 variance; skipping density estimate.\n",
      "  warnings.warn(msg, UserWarning)\n",
      "C:\\Users\\USER\\anaconda3\\lib\\site-packages\\seaborn\\distributions.py:305: UserWarning: Dataset has 0 variance; skipping density estimate.\n",
      "  warnings.warn(msg, UserWarning)\n",
      "C:\\Users\\USER\\anaconda3\\lib\\site-packages\\seaborn\\distributions.py:305: UserWarning: Dataset has 0 variance; skipping density estimate.\n",
      "  warnings.warn(msg, UserWarning)\n",
      "C:\\Users\\USER\\anaconda3\\lib\\site-packages\\seaborn\\distributions.py:305: UserWarning: Dataset has 0 variance; skipping density estimate.\n",
      "  warnings.warn(msg, UserWarning)\n",
      "C:\\Users\\USER\\anaconda3\\lib\\site-packages\\seaborn\\distributions.py:305: UserWarning: Dataset has 0 variance; skipping density estimate.\n",
      "  warnings.warn(msg, UserWarning)\n",
      "C:\\Users\\USER\\anaconda3\\lib\\site-packages\\seaborn\\distributions.py:305: UserWarning: Dataset has 0 variance; skipping density estimate.\n",
      "  warnings.warn(msg, UserWarning)\n",
      "C:\\Users\\USER\\anaconda3\\lib\\site-packages\\seaborn\\distributions.py:305: UserWarning: Dataset has 0 variance; skipping density estimate.\n",
      "  warnings.warn(msg, UserWarning)\n",
      "C:\\Users\\USER\\anaconda3\\lib\\site-packages\\seaborn\\distributions.py:305: UserWarning: Dataset has 0 variance; skipping density estimate.\n",
      "  warnings.warn(msg, UserWarning)\n",
      "C:\\Users\\USER\\anaconda3\\lib\\site-packages\\seaborn\\distributions.py:305: UserWarning: Dataset has 0 variance; skipping density estimate.\n",
      "  warnings.warn(msg, UserWarning)\n",
      "C:\\Users\\USER\\anaconda3\\lib\\site-packages\\seaborn\\distributions.py:305: UserWarning: Dataset has 0 variance; skipping density estimate.\n",
      "  warnings.warn(msg, UserWarning)\n",
      "C:\\Users\\USER\\anaconda3\\lib\\site-packages\\seaborn\\distributions.py:305: UserWarning: Dataset has 0 variance; skipping density estimate.\n",
      "  warnings.warn(msg, UserWarning)\n",
      "C:\\Users\\USER\\anaconda3\\lib\\site-packages\\seaborn\\distributions.py:305: UserWarning: Dataset has 0 variance; skipping density estimate.\n",
      "  warnings.warn(msg, UserWarning)\n",
      "C:\\Users\\USER\\anaconda3\\lib\\site-packages\\seaborn\\distributions.py:305: UserWarning: Dataset has 0 variance; skipping density estimate.\n",
      "  warnings.warn(msg, UserWarning)\n",
      "C:\\Users\\USER\\anaconda3\\lib\\site-packages\\seaborn\\distributions.py:305: UserWarning: Dataset has 0 variance; skipping density estimate.\n",
      "  warnings.warn(msg, UserWarning)\n"
     ]
    },
    {
     "data": {
      "image/png": "[encoded data removed]",
      "text/plain": [
       "<Figure size 432x432 with 3 Axes>"
      ]
     },
     "metadata": {
      "image/png": {
       "height": 423,
       "width": 432
      },
      "needs_background": "light"
     },
     "output_type": "display_data"
    }
   ],
   "source": [
    "sns.jointplot(x='model_year', y='price', data=data, hue='model_year')\n",
    "plt.show()"
   ]
  },
  {
   "cell_type": "markdown",
   "metadata": {},
   "source": [
    "model_year와 가격이 상관관계가 높은 편이다."
   ]
  },
  {
   "cell_type": "markdown",
   "metadata": {},
   "source": [
    "<span style=\"color:green\"> clean_title </span>"
   ]
  },
  {
   "cell_type": "code",
   "execution_count": 78,
   "metadata": {},
   "outputs": [
    {
     "data": {
      "image/png": "[encoded data removed]",
      "text/plain": [
       "<Figure size 432x288 with 1 Axes>"
      ]
     },
     "metadata": {
      "image/png": {
       "height": 272,
       "width": 385
      },
      "needs_background": "light"
     },
     "output_type": "display_data"
    }
   ],
   "source": [
    "sns.scatterplot(x='clean_title', y='price', data=data)\n",
    "plt.show()"
   ]
  },
  {
   "cell_type": "code",
   "execution_count": 79,
   "metadata": {},
   "outputs": [
    {
     "data": {
      "image/png": "[encoded data removed]",
      "text/plain": [
       "<Figure size 720x576 with 1 Axes>"
      ]
     },
     "metadata": {
      "image/png": {
       "height": 489,
       "width": 608
      },
      "needs_background": "light"
     },
     "output_type": "display_data"
    }
   ],
   "source": [
    "c1 = data.loc[data['clean_title'] == 0]\n",
    "c2 = data.loc[data['clean_title'] == 1]\n",
    "\n",
    "plt.figure(figsize = (10, 8))\n",
    "\n",
    "sns.kdeplot(x = 'price', data = c1, label = 'No')\n",
    "sns.kdeplot(x = 'price', data = c2, label = 'Yes')\n",
    "\n",
    "plt.legend()\n",
    "plt.show()"
   ]
  },
  {
   "cell_type": "markdown",
   "metadata": {},
   "source": [
    "clean_title이 없는 경우, 가격이 0.5e6 이하에서 형성된다.  \n",
    "clean_title이 있는 경우, 대부분의 가격이 0.8e6 이하에서 형성된다. 즉, 없는 경우보다 가격대가 높다."
   ]
  },
  {
   "cell_type": "markdown",
   "metadata": {},
   "source": [
    "<span style=\"color:green\"> model_year </span>"
   ]
  },
  {
   "cell_type": "markdown",
   "metadata": {},
   "source": [
    "그렇다면 model_year가 동일한 그룹에서는 model이 영향을 얼마나 미칠까?"
   ]
  },
  {
   "cell_type": "code",
   "execution_count": 80,
   "metadata": {},
   "outputs": [
    {
     "data": {
      "text/plain": [
       "count    3896.000000\n",
       "mean     2015.516684\n",
       "std         6.083985\n",
       "min      1974.000000\n",
       "25%      2012.000000\n",
       "50%      2017.000000\n",
       "75%      2020.000000\n",
       "max      2024.000000\n",
       "Name: model_year, dtype: float64"
      ]
     },
     "execution_count": 80,
     "metadata": {},
     "output_type": "execute_result"
    }
   ],
   "source": [
    "data['model_year'].describe()"
   ]
  },
  {
   "cell_type": "code",
   "execution_count": 81,
   "metadata": {},
   "outputs": [],
   "source": [
    "# model_year == 2016\n",
    "year2016 = data.loc[data['model_year'] == 2016]"
   ]
  },
  {
   "cell_type": "code",
   "execution_count": 82,
   "metadata": {},
   "outputs": [],
   "source": [
    "# 이상치 제거\n",
    "year2016_20 = year2016.loc[year2016['price'] <= 200000]"
   ]
  },
  {
   "cell_type": "code",
   "execution_count": 83,
   "metadata": {},
   "outputs": [
    {
     "data": {
      "image/png": "[encoded data removed]",
      "text/plain": [
       "<Figure size 432x432 with 3 Axes>"
      ]
     },
     "metadata": {
      "image/png": {
       "height": 423,
       "width": 446
      },
      "needs_background": "light"
     },
     "output_type": "display_data"
    }
   ],
   "source": [
    "sns.jointplot(x='model', y='price', data=year2016_20)\n",
    "plt.show()"
   ]
  },
  {
   "cell_type": "code",
   "execution_count": 84,
   "metadata": {},
   "outputs": [
    {
     "data": {
      "text/plain": [
       "count       264.000000\n",
       "mean      35867.041667\n",
       "std       45474.299766\n",
       "min        5000.000000\n",
       "25%       18998.750000\n",
       "50%       25000.000000\n",
       "75%       35600.000000\n",
       "max      489000.000000\n",
       "Name: price, dtype: float64"
      ]
     },
     "execution_count": 84,
     "metadata": {},
     "output_type": "execute_result"
    }
   ],
   "source": [
    "year2016['price'].describe()"
   ]
  },
  {
   "cell_type": "markdown",
   "metadata": {},
   "source": [
    "똑같이 2016년 모델인데 가격의 표준편차가 45,000 정도로 매우 큼.  \n",
    "-> 다른 요인이 매우 크게 작용"
   ]
  },
  {
   "cell_type": "markdown",
   "metadata": {},
   "source": [
    "<span style=\"color:green\"> model </span>"
   ]
  },
  {
   "cell_type": "code",
   "execution_count": 85,
   "metadata": {
    "scrolled": false
   },
   "outputs": [
    {
     "data": {
      "image/png": "[encoded data removed]",
      "text/plain": [
       "<Figure size 432x432 with 3 Axes>"
      ]
     },
     "metadata": {
      "image/png": {
       "height": 423,
       "width": 440
      },
      "needs_background": "light"
     },
     "output_type": "display_data"
    }
   ],
   "source": [
    "tmp = data.loc[data['model'] < 30]\n",
    "sns.jointplot(x='model', y='price', data=tmp)\n",
    "plt.show()"
   ]
  },
  {
   "cell_type": "code",
   "execution_count": 86,
   "metadata": {},
   "outputs": [
    {
     "data": {
      "image/png": "[encoded data removed]",
      "text/plain": [
       "<Figure size 432x288 with 1 Axes>"
      ]
     },
     "metadata": {
      "image/png": {
       "height": 261,
       "width": 402
      },
      "needs_background": "light"
     },
     "output_type": "display_data"
    }
   ],
   "source": [
    "sns.barplot(x = 'model', y = 'price', data=tmp)\n",
    "plt.show()"
   ]
  },
  {
   "cell_type": "markdown",
   "metadata": {},
   "source": [
    "model별로 가격대가 다르고, 같은 model 안에서의 가격 차이는 서로 다른 model끼리의 가격 차이보다 작다."
   ]
  },
  {
   "cell_type": "code",
   "execution_count": 87,
   "metadata": {},
   "outputs": [
    {
     "data": {
      "text/plain": [
       "model\n",
       "0    22500.000000\n",
       "1    18000.000000\n",
       "2    13933.333333\n",
       "3    29000.000000\n",
       "4    38601.909091\n",
       "Name: price, dtype: float64"
      ]
     },
     "execution_count": 87,
     "metadata": {},
     "output_type": "execute_result"
    }
   ],
   "source": [
    "d = data.groupby('model')['price'].mean()\n",
    "d.head()"
   ]
  },
  {
   "cell_type": "code",
   "execution_count": 88,
   "metadata": {},
   "outputs": [
    {
     "data": {
      "image/png": "[encoded data removed]",
      "text/plain": [
       "<Figure size 432x288 with 1 Axes>"
      ]
     },
     "metadata": {
      "image/png": {
       "height": 258,
       "width": 378
      },
      "needs_background": "light"
     },
     "output_type": "display_data"
    }
   ],
   "source": [
    "plt.bar(d.index, d.values)\n",
    "plt.show()"
   ]
  },
  {
   "cell_type": "markdown",
   "metadata": {},
   "source": [
    "<span style=\"color:green\"> model_year </span>"
   ]
  },
  {
   "cell_type": "code",
   "execution_count": 89,
   "metadata": {},
   "outputs": [
    {
     "data": {
      "text/plain": [
       "model_year\n",
       "1974    115000.000000\n",
       "1992     11500.000000\n",
       "1993     22522.111111\n",
       "1994      7539.857143\n",
       "1995     25665.333333\n",
       "Name: price, dtype: float64"
      ]
     },
     "execution_count": 89,
     "metadata": {},
     "output_type": "execute_result"
    }
   ],
   "source": [
    "dd = data.groupby('model_year')['price'].mean()\n",
    "dd.head()"
   ]
  },
  {
   "cell_type": "code",
   "execution_count": 90,
   "metadata": {},
   "outputs": [
    {
     "data": {
      "image/png": "[encoded data removed]",
      "text/plain": [
       "<Figure size 432x288 with 1 Axes>"
      ]
     },
     "metadata": {
      "image/png": {
       "height": 250,
       "width": 394
      },
      "needs_background": "light"
     },
     "output_type": "display_data"
    }
   ],
   "source": [
    "plt.bar(dd.index, dd.values)\n",
    "plt.show()"
   ]
  },
  {
   "cell_type": "markdown",
   "metadata": {},
   "source": [
    "<span style=\"color:green\"> milage </span>"
   ]
  },
  {
   "cell_type": "code",
   "execution_count": 91,
   "metadata": {},
   "outputs": [
    {
     "data": {
      "text/plain": [
       "<Figure size 720x576 with 0 Axes>"
      ]
     },
     "metadata": {},
     "output_type": "display_data"
    },
    {
     "data": {
      "image/png": "[encoded data removed]",
      "text/plain": [
       "<Figure size 432x432 with 3 Axes>"
      ]
     },
     "metadata": {
      "image/png": {
       "height": 423,
       "width": 424
      },
      "needs_background": "light"
     },
     "output_type": "display_data"
    }
   ],
   "source": [
    "plt.figure(figsize = (10, 8))\n",
    "\n",
    "sns.jointplot(x='milage', y='price', data=data)\n",
    "plt.show()"
   ]
  },
  {
   "cell_type": "markdown",
   "metadata": {},
   "source": [
    "<span style=\"color:green\"> engine </span>"
   ]
  },
  {
   "cell_type": "code",
   "execution_count": 176,
   "metadata": {},
   "outputs": [],
   "source": [
    "temp = data.loc[data['engine'] < 30]"
   ]
  },
  {
   "cell_type": "code",
   "execution_count": 177,
   "metadata": {},
   "outputs": [
    {
     "data": {
      "image/png": "[encoded data removed]",
      "text/plain": [
       "<Figure size 720x576 with 1 Axes>"
      ]
     },
     "metadata": {
      "image/png": {
       "height": 479,
       "width": 631
      },
      "needs_background": "light"
     },
     "output_type": "display_data"
    }
   ],
   "source": [
    "plt.figure(figsize = (10, 8))\n",
    "sns.barplot(x='engine', y='price', data=temp)\n",
    "plt.show()"
   ]
  },
  {
   "cell_type": "markdown",
   "metadata": {},
   "source": [
    "engine별로 가격대가 다르고, 같은 engine 안에서의 가격 차이는 서로 다른 engine끼리의 가격 차이보다 작다."
   ]
  },
  {
   "cell_type": "markdown",
   "metadata": {},
   "source": [
    "**결론 : price는 milage, model과 model_year, engine의 영향을 가장 크게 받고, 그 다음으로는 accident, clean_title이 영향을 미친다.**"
   ]
  },
  {
   "cell_type": "markdown",
   "metadata": {},
   "source": [
    "------"
   ]
  },
  {
   "cell_type": "markdown",
   "metadata": {},
   "source": [
    "<span style=\"color:blue\"> 가격 예측 </span>"
   ]
  },
  {
   "cell_type": "code",
   "execution_count": 92,
   "metadata": {},
   "outputs": [],
   "source": [
    "from sklearn.model_selection import train_test_split"
   ]
  },
  {
   "cell_type": "code",
   "execution_count": 93,
   "metadata": {},
   "outputs": [],
   "source": [
    "from sklearn.linear_model import LinearRegression\n",
    "from sklearn.metrics import mean_absolute_error\n",
    "from sklearn.metrics import mean_squared_error\n",
    "# from sklearn.metrics import mean_absolute_percentage_error\n",
    "from sklearn.metrics import r2_score"
   ]
  },
  {
   "cell_type": "code",
   "execution_count": 94,
   "metadata": {},
   "outputs": [],
   "source": [
    "from sklearn.neighbors import KNeighborsRegressor\n",
    "from sklearn.tree import DecisionTreeRegressor\n",
    "from sklearn.ensemble import RandomForestRegressor\n",
    "from xgboost import XGBRegressor"
   ]
  },
  {
   "cell_type": "code",
   "execution_count": 95,
   "metadata": {},
   "outputs": [],
   "source": [
    "x = data.loc[:, ['brand', 'model', 'model_year', 'milage', 'fuel_type', 'engine', 'transmission', 'ext_col', 'int_col', 'accident', 'clean_title']]\n",
    "y = data.loc[:, ['price']]"
   ]
  },
  {
   "cell_type": "code",
   "execution_count": 96,
   "metadata": {},
   "outputs": [],
   "source": [
    "x_train, x_test, y_train, y_test = train_test_split(x, y, test_size = 0.3)"
   ]
  },
  {
   "cell_type": "markdown",
   "metadata": {},
   "source": [
    "<span style=\"color:orange\"> 선형 회귀 </span>"
   ]
  },
  {
   "cell_type": "code",
   "execution_count": 97,
   "metadata": {},
   "outputs": [],
   "source": [
    "model = LinearRegression()"
   ]
  },
  {
   "cell_type": "code",
   "execution_count": 98,
   "metadata": {},
   "outputs": [
    {
     "data": {
      "text/plain": [
       "LinearRegression()"
      ]
     },
     "execution_count": 98,
     "metadata": {},
     "output_type": "execute_result"
    }
   ],
   "source": [
    "model.fit(x_train, y_train)"
   ]
  },
  {
   "cell_type": "code",
   "execution_count": 99,
   "metadata": {},
   "outputs": [],
   "source": [
    "y_pred = model.predict(x_test)"
   ]
  },
  {
   "cell_type": "code",
   "execution_count": 100,
   "metadata": {},
   "outputs": [
    {
     "name": "stdout",
     "output_type": "stream",
     "text": [
      "22647.447901934964\n"
     ]
    }
   ],
   "source": [
    "print(mean_absolute_error(y_test, y_pred))"
   ]
  },
  {
   "cell_type": "code",
   "execution_count": 179,
   "metadata": {},
   "outputs": [
    {
     "data": {
      "text/plain": [
       "array([[51500],\n",
       "       [ 5900],\n",
       "       [61599],\n",
       "       ...,\n",
       "       [37000],\n",
       "       [98000],\n",
       "       [50998]], dtype=int64)"
      ]
     },
     "execution_count": 179,
     "metadata": {},
     "output_type": "execute_result"
    }
   ],
   "source": [
    "y_test.values"
   ]
  },
  {
   "cell_type": "markdown",
   "metadata": {},
   "source": [
    "<span style=\"color:orange\">  </span>"
   ]
  },
  {
   "cell_type": "code",
   "execution_count": 181,
   "metadata": {},
   "outputs": [
    {
     "data": {
      "text/plain": [
       "array([[ 67291.32915155],\n",
       "       [-19233.14741275],\n",
       "       [ 67230.0271721 ],\n",
       "       ...,\n",
       "       [ 62977.9856503 ],\n",
       "       [ 72023.56452081],\n",
       "       [ 73548.74972168]])"
      ]
     },
     "execution_count": 181,
     "metadata": {},
     "output_type": "execute_result"
    }
   ],
   "source": [
    "y_pred"
   ]
  },
  {
   "cell_type": "code",
   "execution_count": 182,
   "metadata": {},
   "outputs": [
    {
     "name": "stdout",
     "output_type": "stream",
     "text": [
      "0.3028457868396388\n"
     ]
    }
   ],
   "source": [
    "print(r2_score(y_test, y_pred))"
   ]
  },
  {
   "cell_type": "code",
   "execution_count": 186,
   "metadata": {},
   "outputs": [
    {
     "data": {
      "image/png": "[encoded data removed]",
      "text/plain": [
       "<Figure size 432x288 with 1 Axes>"
      ]
     },
     "metadata": {
      "image/png": {
       "height": 248,
       "width": 413
      },
      "needs_background": "light"
     },
     "output_type": "display_data"
    }
   ],
   "source": [
    "# 시각화\n",
    "plt.plot(y_test.values, label='Actual')\n",
    "plt.plot(y_pred, label='Predicted')\n",
    "plt.legend()\n",
    "plt.ylabel('price')\n",
    "plt.show()"
   ]
  },
  {
   "cell_type": "markdown",
   "metadata": {},
   "source": [
    "<span style='color:orange'> KNN </span>"
   ]
  },
  {
   "cell_type": "code",
   "execution_count": 199,
   "metadata": {},
   "outputs": [],
   "source": [
    "model = KNeighborsRegressor(n_neighbors=3)"
   ]
  },
  {
   "cell_type": "code",
   "execution_count": 200,
   "metadata": {},
   "outputs": [
    {
     "data": {
      "text/plain": [
       "KNeighborsRegressor(n_neighbors=3)"
      ]
     },
     "execution_count": 200,
     "metadata": {},
     "output_type": "execute_result"
    }
   ],
   "source": [
    "model.fit(x_train, y_train)"
   ]
  },
  {
   "cell_type": "code",
   "execution_count": 201,
   "metadata": {},
   "outputs": [],
   "source": [
    "y_pred = model.predict(x_test)"
   ]
  },
  {
   "cell_type": "code",
   "execution_count": 202,
   "metadata": {},
   "outputs": [
    {
     "name": "stdout",
     "output_type": "stream",
     "text": [
      "-0.2553668106440541\n"
     ]
    }
   ],
   "source": [
    "print(r2_score(y_test, y_pred))"
   ]
  },
  {
   "cell_type": "code",
   "execution_count": 203,
   "metadata": {},
   "outputs": [
    {
     "data": {
      "image/png": "[encoded data removed]",
      "text/plain": [
       "<Figure size 432x288 with 1 Axes>"
      ]
     },
     "metadata": {
      "image/png": {
       "height": 258,
       "width": 391
      },
      "needs_background": "light"
     },
     "output_type": "display_data"
    }
   ],
   "source": [
    "# 시각화\n",
    "plt.plot(y_test.values, label='Actual')\n",
    "plt.plot(y_pred, label='Predicted')\n",
    "plt.legend()\n",
    "plt.ylabel('price')\n",
    "plt.show()"
   ]
  }
 ],
 "metadata": {
  "kernelspec": {
   "display_name": "Python 3",
   "language": "python",
   "name": "python3"
  },
  "language_info": {
   "codemirror_mode": {
    "name": "ipython",
    "version": 3
   },
   "file_extension": ".py",
   "mimetype": "text/x-python",
   "name": "python",
   "nbconvert_exporter": "python",
   "pygments_lexer": "ipython3",
   "version": "3.8.5"
  }
 },
 "nbformat": 4,
 "nbformat_minor": 4
}
